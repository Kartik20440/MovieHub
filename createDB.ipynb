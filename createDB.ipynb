{
 "cells": [
  {
   "cell_type": "code",
   "execution_count": 58,
   "metadata": {},
   "outputs": [],
   "source": [
    "import csv\n",
    "import pandas as pd\n",
    "import mysql.connector\n",
    "from datetime import datetime\n",
    "import json\n",
    "import requests"
   ]
  },
  {
   "cell_type": "code",
   "execution_count": 59,
   "metadata": {},
   "outputs": [],
   "source": [
    "# connecting to the mysql database on localhost using mysql.connector\n",
    "mydb = mysql.connector.connect(\n",
    "    host=\"localhost\",\n",
    "    database=\"moviehub\",\n",
    "    user=\"root\",\n",
    "    password=\"mysqlpassword\"\n",
    ")\n",
    "mycursor = mydb.cursor()"
   ]
  },
  {
   "cell_type": "code",
   "execution_count": 60,
   "metadata": {},
   "outputs": [],
   "source": [
    "# Queries to insert data from different csv files into the database\n",
    "# Queries to insert imdb data into the database\n",
    "imovie_Query = \"INSERT INTO IMDBMovie(primary_title, original_title, release_date, runtime, is_adult, imdb_link, genres) VALUES (%s, %s, %s, %s, %s, %s, %s)\"\n",
    "iperson_Query = \"INSERT INTO IMDBPerson(mid, name, birthday, deathday, primary_profession, known_for, imdb_link) VALUES (%s, %s, %s, %s, %s, %s, %s)\"\n",
    "irating_Query = \"INSERT INTO IMDBRatings(id,rating,votes) VALUES (%s, %s, %s)\"\n",
    "\n",
    "# Queries to insert tmdb data into the database\n",
    "tmovie_Query = \"INSERT INTO TMDBMovie(title, original_title, release_date, runtime, is_adult, imdb_link, overview, popularity, poster_path, collection_belongs_to, revenue, budget, tagline, homepage_link) VALUES (%s, %s, %s, %s, %s, %s, %s, %s, %s, %s, %s, %s, %s, %s)\"\n",
    "tperson_Query = \"INSERT INTO TMDBPerson(id, name, birthday, deathday, alias_name, gender, biography, profile_path, popularity, place_of_birth, homepage, home_country, imdb_link) VALUES (%s, %s, %s, %s, %s, %s, %s, %s, %s, %s, %s, %s, %s)\"\n",
    "\n",
    "# Queries to insert timdb data into the database\n",
    "timovie_Query = \"INSERT INTO TIMDBMovie(movieid, title, release_date, imdb_link) VALUES (%s, %s, %s, %s)\"\n",
    "tirating_Query = \"INSERT INTO TIMDBRatings(movieid,imdb_link,rating) VALUES (%s, %s, %s)\"\n",
    "\n",
    "# Queries to insert rotten tomatoes data into the database\n",
    "rtmovie_query = \"INSERT INTO RTMovie(title, cast1, cast2, description, director, genre, rating) VALUES (%s, %s, %s, %s, %s, %s, %s)\"\n",
    "\n",
    "# Queries to insert movielens data into the database\n",
    "mlmovie_Query = \"INSERT INTO MLDBMovie(movieid, title, release_date, imdb_link) VALUES (%s, %s, %s, %s)\"\n",
    "mlrating_Query = \"INSERT INTO MLDBRatings(movieid,imdb_link,rating) VALUES (%s, %s, %s)\"\n",
    "\n",
    "# Queries to insert celebrity api person data into the database\n",
    "capiperson_query = \"INSERT INTO CAPIPerson(name,birthday,occupation,gender,nationality) VALUES (%s, %s, %s, %s, %s)\"\n",
    "\n",
    "# Query to insert mapping data using movielens, imdb and tmdb data into the database\n",
    "dbmapping_Query = \"INSERT INTO Mapping(movieId,imdbId,tmdbId,timdbId) VALUES (%s, %s, %s,%s)\""
   ]
  },
  {
   "cell_type": "code",
   "execution_count": 61,
   "metadata": {},
   "outputs": [],
   "source": [
    "# open links.csv and store each row in a dictionary with movieid as key and imdbid as values\n",
    "with open('C:/Users/karti/OneDrive/Desktop/IIA Project/data/timdb/links.csv', 'r', encoding='utf8') as f:\n",
    "    fopen = csv.reader(f, delimiter=',')\n",
    "    imdbid_dict = {}\n",
    "    for rdata in fopen:\n",
    "        if rdata[0] == 'movie_id':\n",
    "            continue\n",
    "        imdbid_dict[rdata[0]] = rdata[1]"
   ]
  },
  {
   "cell_type": "code",
   "execution_count": 22,
   "metadata": {},
   "outputs": [
    {
     "name": "stdout",
     "output_type": "stream",
     "text": [
      "Data added to the database successfully!\n"
     ]
    }
   ],
   "source": [
    "# inserting timdb movie data in timdbmovie table\n",
    "with open('C:/Users/karti/OneDrive/Desktop/IIA Project/data/timdb/titles.csv', 'r', encoding='utf8') as f:\n",
    "    fopen = csv.reader(f, delimiter=',')\n",
    "    for rdata in fopen:\n",
    "        if rdata[0] == 'movie_id':\n",
    "            continue\n",
    "        # Extracting data from the csv file\n",
    "        movieid = rdata[0]\n",
    "        title = rdata[1][:-7]\n",
    "        re_d = rdata[1][-6:]\n",
    "        release_date = re_d[1:-1]\n",
    "        imdb_link = imdbid_dict[movieid]\n",
    "        try:\n",
    "            dtuple = (movieid, title, release_date, imdb_link)\n",
    "            mycursor.execute(timovie_Query, dtuple)\n",
    "            mydb.commit()\n",
    "        except Exception as exc:\n",
    "            print(\"Error is: \", exc)\n",
    "print(\"Data added to the database successfully!\")"
   ]
  },
  {
   "cell_type": "code",
   "execution_count": 23,
   "metadata": {},
   "outputs": [
    {
     "name": "stdout",
     "output_type": "stream",
     "text": [
      "Data added to the database successfully!\n"
     ]
    }
   ],
   "source": [
    "# inserting timdb movie ratings data in timdbratings table\n",
    "df = pd.read_csv('C:/Users/karti/OneDrive/Desktop/IIA Project/data/timdb/ratings.csv')\n",
    "# Calculate the average rating for each movie\n",
    "average_ratings = df.groupby('movie_id')['rating'].mean().reset_index()\n",
    "\n",
    "for i in range(len(average_ratings)):\n",
    "    movieid = str(average_ratings['movie_id'][i])\n",
    "    rating = average_ratings['rating'][i]\n",
    "    rating = round(rating, 2)\n",
    "    rating = float(rating)\n",
    "    imdb_link = imdbid_dict[str(movieid)]\n",
    "    try:\n",
    "        dtuple = (movieid, imdb_link, rating)\n",
    "        mycursor.execute(tirating_Query, dtuple)\n",
    "        mydb.commit()\n",
    "    except Exception as exc:\n",
    "        print(\"Error is: \", exc)\n",
    "\n",
    "print(\"Data added to the database successfully!\")"
   ]
  },
  {
   "cell_type": "code",
   "execution_count": 65,
   "metadata": {},
   "outputs": [
    {
     "name": "stdout",
     "output_type": "stream",
     "text": [
      "Data added to the database successfully!\n"
     ]
    }
   ],
   "source": [
    "# inserting movielens movie data in mldbmovie table\n",
    "with open('C:/Users/karti/OneDrive/Desktop/IIA Project/data/movielens/movies.csv', 'r', encoding='utf8') as f:\n",
    "    fopen = csv.reader(f, delimiter=',')\n",
    "    for rdata in fopen:\n",
    "        if rdata[0] == 'movieId':\n",
    "            continue\n",
    "        # Extracting data from the csv file\n",
    "        movieid = rdata[0]\n",
    "        title = rdata[1][:-7]\n",
    "        re_d = rdata[1][-6:]\n",
    "        release_date = re_d[1:-1]\n",
    "        if movieid not in imdbid_dict:\n",
    "            continue\n",
    "            \n",
    "        imdb_link = imdbid_dict[movieid]\n",
    "        try:\n",
    "            dtuple = (movieid, title, release_date, imdb_link)\n",
    "            mycursor.execute(mlmovie_Query, dtuple)\n",
    "            mydb.commit()\n",
    "        except Exception as exc:\n",
    "            print(\"Error is: \", exc)\n",
    "print(\"Data added to the database successfully!\")"
   ]
  },
  {
   "cell_type": "code",
   "execution_count": 8,
   "metadata": {},
   "outputs": [
    {
     "name": "stdout",
     "output_type": "stream",
     "text": [
      "Data added to the database successfully!\n"
     ]
    }
   ],
   "source": [
    "# inserting movielens movie ratings data in mldbbratings table\n",
    "df = pd.read_csv('C:/Users/karti/OneDrive/Desktop/IIA Project/data/movielens/ratings.csv')\n",
    "# Calculate the average rating for each movie\n",
    "average_ratings = df.groupby('movieId')['rating'].mean().reset_index()\n",
    "\n",
    "for i in range(len(average_ratings)):\n",
    "    movieid = str(average_ratings['movieId'][i])\n",
    "    rating = average_ratings['rating'][i]\n",
    "    rating = round(rating, 2)\n",
    "    rating = float(rating)\n",
    "    if movieid not in imdbid_dict:\n",
    "        continue\n",
    "    imdb_link = imdbid_dict[str(movieid)]\n",
    "    try:\n",
    "        dtuple = (movieid, imdb_link, rating)\n",
    "        mycursor.execute(mlrating_Query, dtuple)\n",
    "        mydb.commit()\n",
    "    except Exception as exc:\n",
    "        print(\"Error is: \", exc)\n",
    "\n",
    "print(\"Data added to the database successfully!\")"
   ]
  },
  {
   "cell_type": "code",
   "execution_count": 10,
   "metadata": {},
   "outputs": [
    {
     "name": "stdout",
     "output_type": "stream",
     "text": [
      "Data added to the database successfully!\n"
     ]
    }
   ],
   "source": [
    "# inserting tmdb movies data in tmdbmovie table\n",
    "with open('C:/Users/karti/OneDrive/Desktop/IIA Project/data/tmdb/Movie_v11.csv', 'r',encoding=\"utf8\") as f:\n",
    "    fopen = csv.reader(f, delimiter=',')\n",
    "    \n",
    "    for rdata in fopen:\n",
    "        if rdata[0] == 'id':\n",
    "            continue\n",
    "        imdbid_list = list(imdbid_dict.values())\n",
    "        imdbid_list = [int(i) for i in imdbid_list]\n",
    "\n",
    "        imdb_link = rdata[12]\n",
    "        imdb_link = imdb_link[2:]\n",
    "        if imdb_link == '':\n",
    "            continue\n",
    "        imdb_link = int(float(imdb_link))\n",
    "\n",
    "        if imdb_link not in imdbid_list:\n",
    "            continue\n",
    "        title = rdata[1]\n",
    "        budget = rdata[10]\n",
    "        homepage_link = rdata[11]\n",
    "        original_title = rdata[14]\n",
    "        overview = rdata[15]\n",
    "        popularity = rdata[16]\n",
    "        poster_path = rdata[17]\n",
    "        release_date = rdata[5]\n",
    "        revenue = rdata[6]\n",
    "        runtime = rdata[7]\n",
    "        tagline = rdata[18]\n",
    "        collection_belongs_to = rdata[20]\n",
    "        is_adult = bool(rdata[8])\n",
    "\n",
    "        # converting isAdult into binary representation for storing in database\n",
    "        if is_adult is False:\n",
    "            is_adult = 0\n",
    "        else:\n",
    "            is_adult = 1\n",
    "            \n",
    "        # converting runtime to int object for storing in database\n",
    "        if runtime == '\\\\N':\n",
    "            runtime = None\n",
    "\n",
    "        try:\n",
    "            dtuple = (title, original_title, release_date, runtime, is_adult, imdb_link, overview, popularity, poster_path, collection_belongs_to, revenue, budget, tagline, homepage_link)\n",
    "            mycursor.execute(tmovie_Query, dtuple)\n",
    "            mydb.commit()\n",
    "        except Exception as exc:\n",
    "            print(\"Error is: \",exc)\n",
    "print(\"Data added to the database successfully!\")"
   ]
  },
  {
   "cell_type": "code",
   "execution_count": 16,
   "metadata": {},
   "outputs": [
    {
     "name": "stdout",
     "output_type": "stream",
     "text": [
      "Data added to the database successfully!\n"
     ]
    }
   ],
   "source": [
    "# inserting tmdb person data in tmdbperson table\n",
    "\n",
    "imdb_person_id = []\n",
    "celeb_name = []\n",
    "\n",
    "with open('C:/Users/karti/OneDrive/Desktop/IIA Project/data/tmdb/PERSON.tsv', 'r',encoding='utf8') as f:\n",
    "    fopen = csv.reader(f, delimiter='\\t')\n",
    "    for rdata in fopen:\n",
    "        if rdata[0] == 'ID':\n",
    "            continue\n",
    "        # Extracting data from the csv file\n",
    "        if rdata[16] == 'IN' or rdata[17] == 'India' or rdata[18] == 'India':\n",
    "            id = rdata[1]\n",
    "            name = rdata[2]\n",
    "            celeb_name.append(name)\n",
    "            birthday = rdata[5]\n",
    "            alias_name = rdata[6]\n",
    "            deathday = rdata[7]\n",
    "            gender = rdata[8]\n",
    "            biography = rdata[9]\n",
    "            profile_path = rdata[10]\n",
    "            popularity = rdata[11]\n",
    "            place_of_birth = rdata[12]\n",
    "            imdb_link = rdata[14]\n",
    "            imdb_person_id.append(imdb_link)\n",
    "            homepage = rdata[15]\n",
    "            home_country = \"India\"\n",
    "            \n",
    "            #converting birthday and deathday to none if they are not present \n",
    "            if birthday=='' or birthday=='\\\\N':\n",
    "                birthday=None\n",
    "            if deathday=='' or deathday=='\\\\N':\n",
    "                deathday=None\n",
    "                \n",
    "            try:\n",
    "                dtuple = (id, name, birthday, deathday, alias_name, gender, biography, profile_path, popularity, place_of_birth, homepage, home_country, imdb_link)\n",
    "                mycursor.execute(tperson_Query, dtuple)\n",
    "                mydb.commit()\n",
    "            except Exception as exc:\n",
    "                print(\"Error is: \",exc)\n",
    "\n",
    "print(\"Data added to the database successfully!\")"
   ]
  },
  {
   "cell_type": "code",
   "execution_count": null,
   "metadata": {},
   "outputs": [],
   "source": [
    "# # inserting rotten tomatoes movie data in rtmovie table\n",
    "\n",
    "# with open('data/all_movie.csv', 'r',encoding='utf8') as f:\n",
    "#     fopen = csv.reader(f, delimiter=',')\n",
    "\n",
    "#     for rdata in fopen:\n",
    "#         if rdata[0] == 'movie_id':\n",
    "#             continue\n",
    "\n",
    "#         # Extracting data from the csv file\n",
    "#         cast1 = rdata[0]\n",
    "#         cast2 = rdata[1]\n",
    "#         description = rdata[6]\n",
    "#         director = rdata[7]\n",
    "#         genre = rdata[10]\n",
    "#         rating = rdata[11]\n",
    "#         title = rdata[15]\n",
    "#         try:\n",
    "#             dtuple = (title, cast1, cast2, description, director, genre, rating)\n",
    "#             mycursor.execute(rtmovie_query, dtuple)\n",
    "#             mydb.commit()\n",
    "#         except Exception as exc:\n",
    "#             print(\"Error is: \",exc)\n",
    "\n",
    "# print(\"Data added to the database successfully!\")"
   ]
  },
  {
   "cell_type": "code",
   "execution_count": 65,
   "metadata": {},
   "outputs": [
    {
     "name": "stdout",
     "output_type": "stream",
     "text": [
      "Data added to the database successfully!\n"
     ]
    }
   ],
   "source": [
    "# inserting imdb movies data in imdbmovie table\n",
    "with open('C:/Users/karti/OneDrive/Desktop/IIA Project/data/imdb/title.basics.tsv', 'r',encoding='utf8') as f:\n",
    "    fopen = csv.reader(f, delimiter='\\t')\n",
    "    for rdata in fopen:\n",
    "        if rdata[0] == 'tconst':\n",
    "            continue\n",
    "        \n",
    "        id = rdata[0]\n",
    "        id = id[2:]\n",
    "        if id == '':\n",
    "            continue\n",
    "        id = int(float(id))\n",
    "\n",
    "        if id not in imdbid_list:\n",
    "            continue\n",
    "        \n",
    "        primaryTitle = rdata[2]\n",
    "        originalTitle = rdata[3]\n",
    "        isAdult = rdata[4]\n",
    "        realeaseDate = rdata[5]\n",
    "        runtime = rdata[7]\n",
    "        genres = rdata[8]\n",
    "        \n",
    "        # converting release date to datetime object for storing in database\n",
    "        if realeaseDate != '\\\\N':\n",
    "            realeaseDate = datetime.strptime(realeaseDate, '%Y')\n",
    "        else:\n",
    "            realeaseDate = datetime.strptime(\"2000\", '%Y')\n",
    "            \n",
    "        # converting runtime to int object for storing in database\n",
    "        if runtime != '\\\\N':\n",
    "            runtime = int(runtime)\n",
    "        else:\n",
    "            runtime = None\n",
    "            \n",
    "        try:\n",
    "            dtuple = (primaryTitle, originalTitle, realeaseDate, runtime, isAdult, id, genres)\n",
    "            mycursor.execute(imovie_Query, dtuple)\n",
    "            mydb.commit()\n",
    "        except Exception as exc:\n",
    "            print(\"Error is: \",exc)\n",
    "\n",
    "print(\"Data added to the database successfully!\")"
   ]
  },
  {
   "cell_type": "code",
   "execution_count": null,
   "metadata": {},
   "outputs": [],
   "source": [
    "# inserting imdb person data in imdbperson table\n",
    "mid = 0\n",
    "with open('C:/Users/karti/OneDrive/Desktop/IIA Project/data/imdb/name.basics.tsv','r',encoding='utf8') as f:\n",
    "    fopen = csv.reader(f, delimiter='\\t')\n",
    "    for rdata in fopen:\n",
    "        if rdata[0] == 'nconst':\n",
    "            continue\n",
    "        # Extracting data from the csv file\n",
    "        imdb_link = rdata[0]\n",
    "\n",
    "        if imdb_link not in imdb_person_id:\n",
    "            continue\n",
    "        mid += 1\n",
    "        name = rdata[1]\n",
    "        birthday = rdata[2]\n",
    "        deathday = rdata[3]\n",
    "        primary_profession = rdata[4]\n",
    "        known_for = rdata[5]\n",
    "        \n",
    "        #converting birthday and deathday to none if they are not present \n",
    "        if birthday=='' or birthday=='\\\\N':\n",
    "            birthday=None\n",
    "        if deathday=='' or deathday=='\\\\N':\n",
    "            deathday=None\n",
    "        try:\n",
    "            dtuple = (mid, name, birthday, deathday, primary_profession, known_for, imdb_link)\n",
    "            print(dtuple)\n",
    "            mycursor.execute(iperson_Query, dtuple)\n",
    "            mydb.commit()\n",
    "        except Exception as exc:\n",
    "            print(\"Error is: \",exc)\n",
    "print(\"Data added to the database successfully!\")"
   ]
  },
  {
   "cell_type": "code",
   "execution_count": 13,
   "metadata": {},
   "outputs": [
    {
     "name": "stdout",
     "output_type": "stream",
     "text": [
      "Data added to the database successfully!\n"
     ]
    }
   ],
   "source": [
    "# inserting imdb movie ratings data in imdbratings table\n",
    "with open('C:/Users/karti/OneDrive/Desktop/IIA Project/data/imdb/title.ratings.tsv', 'r',encoding=\"utf8\") as f:\n",
    "    fopen = csv.reader(f, delimiter='\\t')\n",
    "\n",
    "    for rdata in fopen:\n",
    "        if rdata[0] == 'tconst':\n",
    "            continue\n",
    "        \n",
    "        id = rdata[0]\n",
    "        id = id[2:]\n",
    "        if id == '':\n",
    "            continue\n",
    "        id = int(float(id))\n",
    "\n",
    "        if id not in imdbid_list:\n",
    "            continue\n",
    "        \n",
    "        rating = rdata[1]\n",
    "        votes = rdata[2]\n",
    "        try:\n",
    "            dtuple = (id, rating, votes)\n",
    "            mycursor.execute(irating_Query, dtuple)\n",
    "            mydb.commit()\n",
    "        except Exception as exc:\n",
    "            print(\"Error is: \",exc)\n",
    "\n",
    "print(\"Data added to the database successfully!\")"
   ]
  },
  {
   "cell_type": "code",
   "execution_count": 117,
   "metadata": {},
   "outputs": [
    {
     "name": "stdout",
     "output_type": "stream",
     "text": [
      "Data added to the database successfully!\n"
     ]
    }
   ],
   "source": [
    "# creating a mapping between the ids of imdb, tmdb, timdb and movielens\n",
    "index=0\n",
    "with open('C:/Users/karti/OneDrive/Desktop/IIA Project/data/movielens/links.csv', 'r',encoding=\"utf8\") as f:\n",
    "    fopen = csv.reader(f, delimiter=',')\n",
    "\n",
    "    for rdata in fopen:\n",
    "        if rdata[0] == 'movieId':\n",
    "            continue\n",
    "\n",
    "        movieId = rdata[0]\n",
    "        imdbId = rdata[1]\n",
    "        tmdbId = rdata[2]\n",
    "        id = int(float(imdbId))\n",
    "        for key,value in imdbid_dict.items():\n",
    "            temp = int(float(value))\n",
    "            if temp == id:\n",
    "                timdbId = key\n",
    "                index+=1\n",
    "                movieId=index\n",
    "                try:\n",
    "                    imdbId='tt'+imdbId\n",
    "                    dtuple = (movieId, imdbId, tmdbId, timdbId)\n",
    "                    mycursor.execute(dbmapping_Query, dtuple)\n",
    "                    mydb.commit()\n",
    "                except Exception as exc:\n",
    "                    print(\"Error is: \",exc)\n",
    "\n",
    "print(\"Data added to the database successfully!\")"
   ]
  },
  {
   "cell_type": "code",
   "execution_count": 46,
   "metadata": {},
   "outputs": [],
   "source": [
    "# Making a call to Celebrity API to get information about celebrities using their name\n",
    "def api_call(name):\n",
    "    api_url = 'https://api.api-ninjas.com/v1/celebrity?name={}'.format(name)\n",
    "    response = requests.get(api_url, headers={'X-Api-Key': 'I3HLYoEMA163se9Tu1LOZQ==2yaIidMHnjvzXREw'})\n",
    "    if response.status_code == requests.codes.ok:\n",
    "        txt = json.loads(response.text)\n",
    "    else:\n",
    "        print(\"Error:\", response.status_code, response.text)\n",
    "    return txt"
   ]
  },
  {
   "cell_type": "code",
   "execution_count": 54,
   "metadata": {},
   "outputs": [
    {
     "name": "stdout",
     "output_type": "stream",
     "text": [
      "Data added to the database successfully!\n"
     ]
    }
   ],
   "source": [
    "for i in range(0,len(celeb_name)):\n",
    "\n",
    "    txt = api_call(celeb_name[i])\n",
    "    if txt==[] or len(txt[0]) < 5:\n",
    "        continue\n",
    "\n",
    "    name = txt[0]['name']\n",
    "    if name in ['travis wear','savitri jindal','oksana baiul','sundar pichai','ajay piramal']:\n",
    "        continue\n",
    "\n",
    "    if txt[0]['birthday'] == \"\\\\N\" or txt[0]['birthday'] == '':\n",
    "        txt[0]['birthday'] = None\n",
    "    else:\n",
    "        birthday = txt[0]['birthday']\n",
    "        birthday = int(birthday[:4])\n",
    "    \n",
    "    occupation = txt[0]['occupation']\n",
    "    list_as_string = ', '.join(occupation)\n",
    "    # list_as_json = json.dumps(occupation)\n",
    "    gender = txt[0]['gender']\n",
    "    nationality = txt[0]['nationality']\n",
    "\n",
    "    try:\n",
    "        dtuple = (name, birthday, list_as_string, gender, nationality)\n",
    "        mycursor.execute(capiperson_query, dtuple)\n",
    "        mydb.commit()\n",
    "    except Exception as exc:\n",
    "        print(\"Error is: \",exc)\n",
    "\n",
    "print(\"Data added to the database successfully!\")\n",
    "    \n"
   ]
  }
 ],
 "metadata": {
  "kernelspec": {
   "display_name": "Python 3",
   "language": "python",
   "name": "python3"
  },
  "language_info": {
   "codemirror_mode": {
    "name": "ipython",
    "version": 3
   },
   "file_extension": ".py",
   "mimetype": "text/x-python",
   "name": "python",
   "nbconvert_exporter": "python",
   "pygments_lexer": "ipython3",
   "version": "3.10.1"
  },
  "orig_nbformat": 4
 },
 "nbformat": 4,
 "nbformat_minor": 2
}
