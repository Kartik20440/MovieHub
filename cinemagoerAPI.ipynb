{
 "cells": [
  {
   "cell_type": "code",
   "execution_count": 1,
   "metadata": {},
   "outputs": [
    {
     "name": "stdout",
     "output_type": "stream",
     "text": [
      "Defaulting to user installation because normal site-packages is not writeable\n",
      "Collecting cinemagoer\n",
      "  Downloading cinemagoer-2023.5.1-py3-none-any.whl (297 kB)\n",
      "     ------------------------------------ 297.2/297.2 kB 966.1 kB/s eta 0:00:00\n",
      "Collecting SQLAlchemy (from cinemagoer)\n",
      "  Obtaining dependency information for SQLAlchemy from https://files.pythonhosted.org/packages/99/d5/8293efd969f05cca8281b28d88a53c818903768e4339e1ca78897dbd242d/SQLAlchemy-2.0.22-cp310-cp310-win_amd64.whl.metadata\n",
      "  Downloading SQLAlchemy-2.0.22-cp310-cp310-win_amd64.whl.metadata (9.7 kB)\n",
      "Requirement already satisfied: lxml in c:\\users\\karti\\appdata\\roaming\\python\\python310\\site-packages (from cinemagoer) (4.9.2)\n",
      "Requirement already satisfied: typing-extensions>=4.2.0 in c:\\users\\karti\\appdata\\roaming\\python\\python310\\site-packages (from SQLAlchemy->cinemagoer) (4.4.0)\n",
      "Collecting greenlet!=0.4.17 (from SQLAlchemy->cinemagoer)\n",
      "  Obtaining dependency information for greenlet!=0.4.17 from https://files.pythonhosted.org/packages/02/72/36fb2c35547fdf473629579fc35d9a2034592ea3f01710702d81ef596e16/greenlet-3.0.1-cp310-cp310-win_amd64.whl.metadata\n",
      "  Downloading greenlet-3.0.1-cp310-cp310-win_amd64.whl.metadata (3.8 kB)\n",
      "Downloading SQLAlchemy-2.0.22-cp310-cp310-win_amd64.whl (2.1 MB)\n",
      "   ---------------------------------------- 2.1/2.1 MB 1.8 MB/s eta 0:00:00\n",
      "Downloading greenlet-3.0.1-cp310-cp310-win_amd64.whl (287 kB)\n",
      "   ---------------------------------------- 287.9/287.9 kB 2.5 MB/s eta 0:00:00\n",
      "Installing collected packages: greenlet, SQLAlchemy, cinemagoer\n",
      "Successfully installed SQLAlchemy-2.0.22 cinemagoer-2023.5.1 greenlet-3.0.1\n",
      "Note: you may need to restart the kernel to use updated packages.\n"
     ]
    },
    {
     "name": "stderr",
     "output_type": "stream",
     "text": [
      "\n",
      "[notice] A new release of pip is available: 23.2.1 -> 23.3.1\n",
      "[notice] To update, run: python.exe -m pip install --upgrade pip\n"
     ]
    }
   ],
   "source": [
    "%pip install cinemagoer"
   ]
  },
  {
   "cell_type": "code",
   "execution_count": 2,
   "metadata": {},
   "outputs": [
    {
     "name": "stdout",
     "output_type": "stream",
     "text": [
      "Searching for \"inception\":\n",
      "Inception\n",
      "Inception: The Cobol Job\n",
      "Bikini Inception\n",
      "Inception\n",
      "Inception: Jump Right Into the Action\n",
      "The Crack: Inception\n",
      "Inception 2 - Deception - The Ken Davis Documentary\n",
      "Inception\n",
      "WWA: The Inception\n",
      "Inception of Silence\n",
      "The Inception\n",
      "X - Inception\n",
      "Madness Inception\n",
      "The Best Offer\n",
      "Inception: 4Movie Premiere Special\n",
      "Insha Allah - An inception at closure\n",
      "Inception: In 60 Seconds\n",
      "Alien Inception\n",
      "Inception (Sweded)\n",
      "Ateez: Inception\n",
      "\n"
     ]
    }
   ],
   "source": [
    "from imdb import Cinemagoer\n",
    "\n",
    "moviesDB = Cinemagoer()\n",
    "\n",
    "# # Help?\n",
    "# print(dir(moviesDB))\n",
    "# ----------------------------------------\n",
    "# 1) Search for a title\n",
    "movies = moviesDB.search_movie('inception')\n",
    "\n",
    "print('Searching for \"inception\":')\n",
    "for movie in movies:\n",
    "    title = movie['title']\n",
    "    # year = movie['year']\n",
    "    print(f'{title}')\n",
    "print()\n",
    "## Help?\n",
    "#print(movies[0].keys())\n",
    "\n",
    "\n",
    "\n",
    "# ----------------------------------------\n",
    "# 2) List movie info\n",
    "id = movies[0].getID()\n",
    "movie = moviesDB.get_movie(id)\n",
    "\n",
    "title = movie['title']\n",
    "year = movie['year']\n",
    "rating = movie['rating']\n",
    "directors = movie['directors']\n",
    "casting = movie['cast']\n",
    "\n",
    "# print('Movie info:')\n",
    "# print(f'{title} - {year}')\n",
    "# print(f'rating: {rating}')\n",
    "\n",
    "# direcStr = ' '.join(map(str,directors))\n",
    "# print(f'directors: {direcStr}')\n",
    "\n",
    "# actors = ', '.join(map(str, casting))\n",
    "# print(f'actors: {actors}')\n",
    "\n",
    "## Help?\n",
    "#print(movie.keys())\n",
    "# ----------------------------------------\n",
    "# 3) List actor info\n",
    "id = casting[0].getID()\n",
    "person = moviesDB.get_person(id)\n",
    "bio = moviesDB.get_person_biography(id)\n",
    "\n",
    "## Help?\n",
    "#print(dir(casting[0]))\n",
    "#print(person.keys())\n",
    "\n",
    "## Help?\n",
    "#print(bio.keys())\n",
    "#print(bio['titlesRefs'].keys())\n",
    "# ----------------------------------------\n",
    "# 4) Get top/bottom 10 movies\n",
    "# top = moviesDB.get_popular100_movies()\n",
    "# bottom = moviesDB.get_bottom100_movies()\n",
    "# print(moviesDB.get_top250_movies())\n",
    "# print('Top 10 movies:')\n",
    "# for i in range(10):\n",
    "# \tprint(top[i])\n",
    "# print()\n",
    "\n",
    "# print('Bottom 10 movies:')\n",
    "# for movie in bottom[0:9]:\n",
    "# \tprint(movie)\n",
    "\n"
   ]
  }
 ],
 "metadata": {
  "kernelspec": {
   "display_name": "Python 3",
   "language": "python",
   "name": "python3"
  },
  "language_info": {
   "codemirror_mode": {
    "name": "ipython",
    "version": 3
   },
   "file_extension": ".py",
   "mimetype": "text/x-python",
   "name": "python",
   "nbconvert_exporter": "python",
   "pygments_lexer": "ipython3",
   "version": "3.10.1"
  }
 },
 "nbformat": 4,
 "nbformat_minor": 2
}
