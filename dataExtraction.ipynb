{
 "cells": [
  {
   "cell_type": "code",
   "execution_count": 1,
   "metadata": {},
   "outputs": [],
   "source": [
    "import pandas as pd\n",
    "import os\n",
    "import gzip"
   ]
  },
  {
   "cell_type": "code",
   "execution_count": null,
   "metadata": {},
   "outputs": [],
   "source": [
    "# for all files in data_dir convert to csv\n",
    "path = \"data/tmdb/\"\n",
    "for file in os.listdir(path):\n",
    "    if file.endswith(\".xlsx\"):\n",
    "        df = pd.read_excel(path + file)\n",
    "        df.to_csv(path + file[:-5] + \".tsv\", index=False, sep=\"\\t\")"
   ]
  },
  {
   "cell_type": "code",
   "execution_count": 4,
   "metadata": {},
   "outputs": [],
   "source": [
    "# for all files extract .gz files\n",
    "path = \"data/imdb/\"\n",
    "for file in os.listdir(path = path):\n",
    "    if file.endswith(\".gz\"):\n",
    "        with gzip.open(path + file, 'rb') as f_in:\n",
    "            with open(path + file[:-3], 'wb') as f_out:\n",
    "                f_out.write(f_in.read())"
   ]
  },
  {
   "cell_type": "code",
   "execution_count": 9,
   "metadata": {},
   "outputs": [],
   "source": [
    "# checking datatype of ids.txt\n",
    "with open(\"ids.txt\", \"r\") as file:\n",
    "    ids = eval(file.readline())\n",
    "# print(ids)\n",
    "type(ids)"
   ]
  }
 ],
 "metadata": {
  "kernelspec": {
   "display_name": "Python 3",
   "language": "python",
   "name": "python3"
  },
  "language_info": {
   "codemirror_mode": {
    "name": "ipython",
    "version": 3
   },
   "file_extension": ".py",
   "mimetype": "text/x-python",
   "name": "python",
   "nbconvert_exporter": "python",
   "pygments_lexer": "ipython3",
   "version": "3.10.1"
  },
  "orig_nbformat": 4
 },
 "nbformat": 4,
 "nbformat_minor": 2
}
