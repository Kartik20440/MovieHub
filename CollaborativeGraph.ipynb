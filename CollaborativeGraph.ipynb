{
  "cells": [
    {
      "cell_type": "code",
      "execution_count": 1,
      "metadata": {
        "id": "E38wKwaURsx_"
      },
      "outputs": [],
      "source": [
        "import pandas as pd\n",
        "import json\n",
        "import networkx as nx\n",
        "import requests\n",
        "# %pip install scipy==1.8.0"
      ]
    },
    {
      "cell_type": "code",
      "execution_count": 51,
      "metadata": {
        "id": "Zh5t_j4eR5uI"
      },
      "outputs": [
        {
          "data": {
            "text/html": [
              "<div>\n",
              "<style scoped>\n",
              "    .dataframe tbody tr th:only-of-type {\n",
              "        vertical-align: middle;\n",
              "    }\n",
              "\n",
              "    .dataframe tbody tr th {\n",
              "        vertical-align: top;\n",
              "    }\n",
              "\n",
              "    .dataframe thead th {\n",
              "        text-align: right;\n",
              "    }\n",
              "</style>\n",
              "<table border=\"1\" class=\"dataframe\">\n",
              "  <thead>\n",
              "    <tr style=\"text-align: right;\">\n",
              "      <th></th>\n",
              "      <th>movie_id</th>\n",
              "      <th>title</th>\n",
              "      <th>cast</th>\n",
              "      <th>crew</th>\n",
              "    </tr>\n",
              "  </thead>\n",
              "  <tbody>\n",
              "    <tr>\n",
              "      <th>0</th>\n",
              "      <td>19995</td>\n",
              "      <td>Avatar</td>\n",
              "      <td>[{\"cast_id\": 242, \"character\": \"Jake Sully\", \"...</td>\n",
              "      <td>[{\"credit_id\": \"52fe48009251416c750aca23\", \"de...</td>\n",
              "    </tr>\n",
              "    <tr>\n",
              "      <th>1</th>\n",
              "      <td>285</td>\n",
              "      <td>Pirates of the Caribbean: At World's End</td>\n",
              "      <td>[{\"cast_id\": 4, \"character\": \"Captain Jack Spa...</td>\n",
              "      <td>[{\"credit_id\": \"52fe4232c3a36847f800b579\", \"de...</td>\n",
              "    </tr>\n",
              "    <tr>\n",
              "      <th>2</th>\n",
              "      <td>206647</td>\n",
              "      <td>Spectre</td>\n",
              "      <td>[{\"cast_id\": 1, \"character\": \"James Bond\", \"cr...</td>\n",
              "      <td>[{\"credit_id\": \"54805967c3a36829b5002c41\", \"de...</td>\n",
              "    </tr>\n",
              "    <tr>\n",
              "      <th>3</th>\n",
              "      <td>49026</td>\n",
              "      <td>The Dark Knight Rises</td>\n",
              "      <td>[{\"cast_id\": 2, \"character\": \"Bruce Wayne / Ba...</td>\n",
              "      <td>[{\"credit_id\": \"52fe4781c3a36847f81398c3\", \"de...</td>\n",
              "    </tr>\n",
              "    <tr>\n",
              "      <th>4</th>\n",
              "      <td>49529</td>\n",
              "      <td>John Carter</td>\n",
              "      <td>[{\"cast_id\": 5, \"character\": \"John Carter\", \"c...</td>\n",
              "      <td>[{\"credit_id\": \"52fe479ac3a36847f813eaa3\", \"de...</td>\n",
              "    </tr>\n",
              "  </tbody>\n",
              "</table>\n",
              "</div>"
            ],
            "text/plain": [
              "   movie_id                                     title  \\\n",
              "0     19995                                    Avatar   \n",
              "1       285  Pirates of the Caribbean: At World's End   \n",
              "2    206647                                   Spectre   \n",
              "3     49026                     The Dark Knight Rises   \n",
              "4     49529                               John Carter   \n",
              "\n",
              "                                                cast  \\\n",
              "0  [{\"cast_id\": 242, \"character\": \"Jake Sully\", \"...   \n",
              "1  [{\"cast_id\": 4, \"character\": \"Captain Jack Spa...   \n",
              "2  [{\"cast_id\": 1, \"character\": \"James Bond\", \"cr...   \n",
              "3  [{\"cast_id\": 2, \"character\": \"Bruce Wayne / Ba...   \n",
              "4  [{\"cast_id\": 5, \"character\": \"John Carter\", \"c...   \n",
              "\n",
              "                                                crew  \n",
              "0  [{\"credit_id\": \"52fe48009251416c750aca23\", \"de...  \n",
              "1  [{\"credit_id\": \"52fe4232c3a36847f800b579\", \"de...  \n",
              "2  [{\"credit_id\": \"54805967c3a36829b5002c41\", \"de...  \n",
              "3  [{\"credit_id\": \"52fe4781c3a36847f81398c3\", \"de...  \n",
              "4  [{\"credit_id\": \"52fe479ac3a36847f813eaa3\", \"de...  "
            ]
          },
          "execution_count": 51,
          "metadata": {},
          "output_type": "execute_result"
        }
      ],
      "source": [
        "df=pd.read_csv('data/tmdb_5000_credits.csv')\n",
        "df.head()"
      ]
    },
    {
      "cell_type": "code",
      "execution_count": 52,
      "metadata": {
        "id": "C4XPCrdoTxSp"
      },
      "outputs": [],
      "source": [
        "cast_list = df.cast.tolist()\n",
        "# print(cast_list[0])\n",
        "# print(len(cast_list))\n",
        "crew_list = df.crew.tolist()\n",
        "# print(cast_list[0])\n",
        "# print(len(cast_list))\n",
        "movie_list = df.movie_id.tolist()\n",
        "# print(movie_list[0])\n",
        "# print(len(movie_list))"
      ]
    },
    {
      "cell_type": "code",
      "execution_count": 53,
      "metadata": {
        "id": "2mfiX2PGY237"
      },
      "outputs": [],
      "source": [
        "# Creating a mapping of movie_id to cast and crew\n",
        "m_mapping={}\n",
        "for i in range(int(len(cast_list)/10)):\n",
        "  obj1 = json.loads(cast_list[i])\n",
        "  obj1 = obj1[:3]\n",
        "  obj2 = json.loads(crew_list[i])\n",
        "  crew_set = set()\n",
        "  for crew_i in obj2:\n",
        "    if crew_i['job'] == 'Producer' or crew_i['job'] == 'Director' or crew_i['job'] == 'Casting':\n",
        "      crew_set.add((crew_i['id'],crew_i['name'],crew_i['job']))\n",
        "  for actor_i in obj1:\n",
        "      crew_set.add((actor_i['id'],actor_i['name'],'actor'))\n",
        "  m_mapping[movie_list[i]]=list(crew_set)"
      ]
    },
    {
      "cell_type": "code",
      "execution_count": 54,
      "metadata": {
        "id": "CBCps_PjwdZk"
      },
      "outputs": [],
      "source": [
        "temp=[]\n",
        "for item in m_mapping:\n",
        "  temp = temp + m_mapping[item]\n",
        "lst = set(temp)"
      ]
    },
    {
      "cell_type": "code",
      "execution_count": 2,
      "metadata": {
        "id": "3VNOoeSUcGXY"
      },
      "outputs": [],
      "source": [
        "# Making a call to Celebrity API to get information about celebrities using their name\n",
        "def api_call(name):\n",
        "    api_url = 'https://api.api-ninjas.com/v1/celebrity?name={}'.format(name)\n",
        "    response = requests.get(api_url, headers={'X-Api-Key': 'HZpNjnM9wSBa+dDw0m2EbQ==Rj6TyfZ52NK26AYr'})\n",
        "    if response.status_code == requests.codes.ok:\n",
        "        txt = json.loads(response.text)\n",
        "    else:\n",
        "        print(\"Error:\", response.status_code, response.text)\n",
        "    return txt"
      ]
    },
    {
      "cell_type": "code",
      "execution_count": 5,
      "metadata": {},
      "outputs": [
        {
          "data": {
            "text/plain": [
              "[{'name': 'deepak chopra',\n",
              "  'net_worth': 150000000,\n",
              "  'gender': 'male',\n",
              "  'nationality': 'us',\n",
              "  'occupation': ['physician',\n",
              "   'writer',\n",
              "   'public_speaker',\n",
              "   'actor',\n",
              "   'film_producer',\n",
              "   'screenwriter'],\n",
              "  'birthday': '1947-10-22',\n",
              "  'age': 76,\n",
              "  'is_alive': True}]"
            ]
          },
          "execution_count": 5,
          "metadata": {},
          "output_type": "execute_result"
        }
      ],
      "source": [
        "# Example of a call to the API\n",
        "txt = api_call(\"Deepak Chopra\")\n",
        "txt"
      ]
    },
    {
      "cell_type": "code",
      "execution_count": 45,
      "metadata": {},
      "outputs": [],
      "source": [
        "# Creating a graph to map data about celebrities using an api call to Celebrity API\n",
        "g = nx.Graph()\n",
        "for item in lst:\n",
        "    celeb_name = item[1]\n",
        "    celeb_data = api_call(celeb_name)\n",
        "    worth = ''\n",
        "    nationality = ''\n",
        "    gender = ''\n",
        "    if celeb_data:\n",
        "      for i in celeb_data:\n",
        "        f=0\n",
        "        try:\n",
        "          for occ in i['occupation']:\n",
        "            if item[2].lower() in occ:\n",
        "              f=1\n",
        "              break\n",
        "          if f==1:\n",
        "            try:\n",
        "              nationality =i[\"nationality\"]\n",
        "              worth=i[\"net_worth\"]\n",
        "              gender=i[\"gender\"] \n",
        "              # print(nationality, worth, gender)\n",
        "            except:\n",
        "              pass\n",
        "            break\n",
        "        except:\n",
        "            pass\n",
        "    # print(celeb_name,nationality, worth, gender)\n",
        "    g.add_node(item[0],name=item[1],job=item[2],nationality=nationality,worth=worth,gender=gender)"
      ]
    },
    {
      "cell_type": "code",
      "execution_count": 57,
      "metadata": {
        "id": "PxcRh9DKzslr"
      },
      "outputs": [],
      "source": [
        "def convert_into_dict(temp):\n",
        "  Dict={}\n",
        "  for data in temp:\n",
        "    sorted(temp[data],key=lambda x: x[1])\n",
        "    for i in range(len(temp[data])-1):\n",
        "      for j in range(i+1,len(temp[data])):\n",
        "        if temp[data][i][0]!=temp[data][j][0]:\n",
        "          if (temp[data][i],temp[data][j]) in Dict.keys():\n",
        "            Dict[(temp[data][i],temp[data][j])]+=1\n",
        "          else:\n",
        "            Dict[(temp[data][i],temp[data][j])]=1\n",
        "  return Dict"
      ]
    },
    {
      "cell_type": "code",
      "execution_count": 58,
      "metadata": {
        "id": "0M20MOvb06BI"
      },
      "outputs": [
        {
          "name": "stdout",
          "output_type": "stream",
          "text": [
            "14299\n",
            "1939\n"
          ]
        }
      ],
      "source": [
        "m_mapping_Dict = convert_into_dict(m_mapping)\n",
        "print(len(m_mapping_Dict))\n",
        "print(len(lst))\n",
        "for p in m_mapping_Dict:\n",
        "  g.add_edge(p[0][0],p[1][0], weight=m_mapping_Dict[p])"
      ]
    },
    {
      "cell_type": "code",
      "execution_count": 59,
      "metadata": {
        "id": "_NFqhirLSP1h"
      },
      "outputs": [
        {
          "name": "stdout",
          "output_type": "stream",
          "text": [
            "Number of Actor Nodes->  705\n",
            "Number of Producer Nodes->  645\n",
            "Number of Director Nodes->  234\n",
            "Number of Casting Director Nodes->  241\n",
            "Total Number of Nodes->  1825\n"
          ]
        }
      ],
      "source": [
        "# Create subgraphs for each job\n",
        "subgraph_actors = g.subgraph([a for a in list(g.nodes) if g.nodes[a]['job']=='actor'])\n",
        "print(\"Number of Actor Nodes-> \", subgraph_actors.number_of_nodes())\n",
        "\n",
        "subgraph_producers = g.subgraph([p for p in list(g.nodes) if g.nodes[p]['job']=='Producer'])\n",
        "print(\"Number of Producer Nodes-> \",subgraph_producers.number_of_nodes())\n",
        "\n",
        "subgraph_directors = g.subgraph([d for d in list(g.nodes) if g.nodes[d]['job']=='Director'])\n",
        "print(\"Number of Director Nodes-> \",subgraph_directors.number_of_nodes())\n",
        "\n",
        "subgraph_casting = g.subgraph([c for c in list(g.nodes) if g.nodes[c]['job']=='Casting'])\n",
        "print(\"Number of Casting Director Nodes-> \",subgraph_casting.number_of_nodes())\n",
        "\n",
        "# Print the total number of nodes in the graph\n",
        "print(\"Total Number of Nodes-> \",g.number_of_nodes())"
      ]
    },
    {
      "cell_type": "code",
      "execution_count": 60,
      "metadata": {
        "colab": {
          "base_uri": "https://localhost:8080/"
        },
        "id": "TxiCIOSQ-H0K",
        "outputId": "8299d1bd-3531-4629-9374-7b40d1387b52"
      },
      "outputs": [
        {
          "name": "stdout",
          "output_type": "stream",
          "text": [
            "Density of Graph->  0.00785267964431627\n"
          ]
        }
      ],
      "source": [
        "# Getting the density of the collaborative graph\n",
        "print(\"Density of Graph-> \",nx.density(g))"
      ]
    },
    {
      "cell_type": "code",
      "execution_count": 61,
      "metadata": {
        "id": "L6BWvdFF-MNP"
      },
      "outputs": [],
      "source": [
        "# Finding the degree of each node in the graph for each job\n",
        "g_degree = list(g.degree)\n",
        "\n",
        "actor_degree=[(g.nodes[a[0]]['name'],a[1]) for a in g_degree if g.nodes[a[0]]['job']=='actor']\n",
        "actor_degree.sort(key=lambda x: x[1],reverse=True)\n",
        "\n",
        "producer_degree=[(g.nodes[p[0]]['name'],p[1]) for p in g_degree if g.nodes[p[0]]['job']=='Producer']\n",
        "producer_degree.sort(key=lambda x: x[1],reverse=True)\n",
        "\n",
        "director_degree = [(g.nodes[d[0]]['name'],d[1]) for d in g_degree if g.nodes[d[0]]['job']=='Director']\n",
        "director_degree.sort(key=lambda x: x[1],reverse=True)\n",
        "\n",
        "casting_degree = [(g.nodes[c[0]]['name'],c[1]) for c in g_degree if g.nodes[c[0]]['job']=='Casting']\n",
        "casting_degree.sort(key=lambda x: x[1],reverse=True)"
      ]
    },
    {
      "cell_type": "code",
      "execution_count": 62,
      "metadata": {},
      "outputs": [
        {
          "name": "stdout",
          "output_type": "stream",
          "text": [
            "Degree for Actors->\n"
          ]
        },
        {
          "data": {
            "text/plain": [
              "[('Angelina Jolie', 86), ('Arnold Schwarzenegger', 74), ('Johnny Depp', 73)]"
            ]
          },
          "execution_count": 62,
          "metadata": {},
          "output_type": "execute_result"
        }
      ],
      "source": [
        "print('Degree for Actors->')\n",
        "actor_degree[:3]"
      ]
    },
    {
      "cell_type": "code",
      "execution_count": 63,
      "metadata": {},
      "outputs": [
        {
          "name": "stdout",
          "output_type": "stream",
          "text": [
            "Degree for Producers->\n"
          ]
        },
        {
          "data": {
            "text/plain": [
              "[('Tom Cruise', 79), ('Leonardo DiCaprio', 77), ('Brad Pitt', 75)]"
            ]
          },
          "execution_count": 63,
          "metadata": {},
          "output_type": "execute_result"
        }
      ],
      "source": [
        "print('Degree for Producers->')\n",
        "producer_degree[:3]"
      ]
    },
    {
      "cell_type": "code",
      "execution_count": 64,
      "metadata": {},
      "outputs": [
        {
          "name": "stdout",
          "output_type": "stream",
          "text": [
            "Degree for Directors->\n"
          ]
        },
        {
          "data": {
            "text/plain": [
              "[('Ridley Scott', 48), ('Tim Burton', 44), ('Steven Spielberg', 43)]"
            ]
          },
          "execution_count": 64,
          "metadata": {},
          "output_type": "execute_result"
        }
      ],
      "source": [
        "print('Degree for Directors->')\n",
        "director_degree[:3]"
      ]
    },
    {
      "cell_type": "code",
      "execution_count": 65,
      "metadata": {},
      "outputs": [
        {
          "name": "stdout",
          "output_type": "stream",
          "text": [
            "Degree for Casting Directors->\n"
          ]
        },
        {
          "data": {
            "text/plain": [
              "[('Lucinda Syson', 113), ('Sarah Finn', 112), ('John Papsidera', 103)]"
            ]
          },
          "execution_count": 65,
          "metadata": {},
          "output_type": "execute_result"
        }
      ],
      "source": [
        "print('Degree for Casting Directors->')\n",
        "casting_degree[:3]"
      ]
    },
    {
      "cell_type": "code",
      "execution_count": 66,
      "metadata": {
        "id": "H0LiFttlWR-o"
      },
      "outputs": [],
      "source": [
        "# Finding the closeness centrality of each node in the graph for each job\n",
        "g_closeness = nx.closeness_centrality(g)\n",
        "\n",
        "g_closeness = list(g_closeness.items())\n",
        "\n",
        "actor_closeness=[(g.nodes[a[0]]['name'],a[1]) for a in g_closeness if g.nodes[a[0]]['job']=='actor']\n",
        "actor_closeness.sort(key=lambda x: x[1],reverse=True)\n",
        "\n",
        "producer_closeness=[(g.nodes[p[0]]['name'],p[1]) for p in g_closeness if g.nodes[p[0]]['job']=='Producer']\n",
        "producer_closeness.sort(key=lambda x: x[1],reverse=True)\n",
        "\n",
        "director_closeness=[(g.nodes[d[0]]['name'],d[1]) for d in g_closeness if g.nodes[d[0]]['job']=='Director']\n",
        "director_closeness.sort(key=lambda x: x[1],reverse=True)\n",
        "\n",
        "casting_closeness=[(g.nodes[c[0]]['name'],c[1]) for c in g_closeness if g.nodes[c[0]]['job']=='Casting']\n",
        "casting_closeness.sort(key=lambda x: x[1],reverse=True)"
      ]
    },
    {
      "cell_type": "code",
      "execution_count": 67,
      "metadata": {},
      "outputs": [
        {
          "name": "stdout",
          "output_type": "stream",
          "text": [
            "Closeness for Actors->\n"
          ]
        },
        {
          "data": {
            "text/plain": [
              "[('Angelina Jolie', 0.39221533554025845),\n",
              " ('Johnny Depp', 0.3737970867170089),\n",
              " ('Gary Oldman', 0.3686907871332547)]"
            ]
          },
          "execution_count": 67,
          "metadata": {},
          "output_type": "execute_result"
        }
      ],
      "source": [
        "print('Closeness for Actors->')\n",
        "actor_closeness[:3]"
      ]
    },
    {
      "cell_type": "code",
      "execution_count": 68,
      "metadata": {},
      "outputs": [
        {
          "name": "stdout",
          "output_type": "stream",
          "text": [
            "Closeness for Producers->\n"
          ]
        },
        {
          "data": {
            "text/plain": [
              "[('Brad Pitt', 0.3842750473235369),\n",
              " ('Tom Cruise', 0.3796299643339117),\n",
              " ('Brian Grazer', 0.3778858756769412)]"
            ]
          },
          "execution_count": 68,
          "metadata": {},
          "output_type": "execute_result"
        }
      ],
      "source": [
        "print('Closeness for Producers->')\n",
        "producer_closeness[:3]"
      ]
    },
    {
      "cell_type": "code",
      "execution_count": 69,
      "metadata": {},
      "outputs": [
        {
          "name": "stdout",
          "output_type": "stream",
          "text": [
            "Closeness for Directors->\n"
          ]
        },
        {
          "data": {
            "text/plain": [
              "[('Steven Spielberg', 0.36464351651241256),\n",
              " ('Ridley Scott', 0.3635690039400754),\n",
              " ('Jan de Bont', 0.3500134422936775)]"
            ]
          },
          "execution_count": 69,
          "metadata": {},
          "output_type": "execute_result"
        }
      ],
      "source": [
        "print('Closeness for Directors->')\n",
        "director_closeness[:3]"
      ]
    },
    {
      "cell_type": "code",
      "execution_count": 70,
      "metadata": {},
      "outputs": [
        {
          "name": "stdout",
          "output_type": "stream",
          "text": [
            "Closeness for Casting Directors->\n"
          ]
        },
        {
          "data": {
            "text/plain": [
              "[('Lucinda Syson', 0.40386166418501246),\n",
              " ('Sarah Finn', 0.39248269432385785),\n",
              " ('Ronna Kress', 0.38651070434533413)]"
            ]
          },
          "execution_count": 70,
          "metadata": {},
          "output_type": "execute_result"
        }
      ],
      "source": [
        "print('Closeness for Casting Directors->')\n",
        "casting_closeness[:3]"
      ]
    },
    {
      "cell_type": "code",
      "execution_count": 71,
      "metadata": {
        "id": "TKt1-g-4Xsxc"
      },
      "outputs": [],
      "source": [
        "# Finding the betweenness centrality of each node in the graph for each job\n",
        "g_betweenness = nx.betweenness_centrality(g)\n",
        "g_betweenness = list(g_betweenness.items())\n",
        "\n",
        "actor_betweenness=[(g.nodes[a[0]]['name'],a[1]) for a in g_betweenness if g.nodes[a[0]]['job']=='actor']\n",
        "actor_betweenness.sort(key=lambda x: x[1],reverse=True)\n",
        "\n",
        "producer_betweenness=[(g.nodes[p[0]]['name'],p[1]) for p in g_betweenness if g.nodes[p[0]]['job']=='Producer']\n",
        "producer_betweenness.sort(key=lambda x: x[1],reverse=True)\n",
        "\n",
        "director_betweenness=[(g.nodes[d[0]]['name'],d[1]) for d in g_betweenness if g.nodes[d[0]]['job']=='Director']\n",
        "director_betweenness.sort(key=lambda x: x[1],reverse=True)\n",
        "\n",
        "casting_betweenness=[(g.nodes[c[0]]['name'],c[1]) for c in g_betweenness if g.nodes[c[0]]['job']=='Casting']\n",
        "casting_betweenness.sort(key=lambda x: x[1],reverse=True)"
      ]
    },
    {
      "cell_type": "code",
      "execution_count": 72,
      "metadata": {},
      "outputs": [
        {
          "name": "stdout",
          "output_type": "stream",
          "text": [
            "Betweenness for Actors->\n"
          ]
        },
        {
          "data": {
            "text/plain": [
              "[('Arnold Schwarzenegger', 0.028147915880146313),\n",
              " ('Angelina Jolie', 0.02664458433682943),\n",
              " ('Hugh Jackman', 0.017077584236605502)]"
            ]
          },
          "execution_count": 72,
          "metadata": {},
          "output_type": "execute_result"
        }
      ],
      "source": [
        "print('Betweenness for Actors->')\n",
        "actor_betweenness[:3]"
      ]
    },
    {
      "cell_type": "code",
      "execution_count": 73,
      "metadata": {},
      "outputs": [
        {
          "name": "stdout",
          "output_type": "stream",
          "text": [
            "Betweenness for Producers->\n"
          ]
        },
        {
          "data": {
            "text/plain": [
              "[('Tom Hanks', 0.03110445522495556),\n",
              " ('Tom Cruise', 0.022563294670007717),\n",
              " ('Brad Pitt', 0.021984697846443843)]"
            ]
          },
          "execution_count": 73,
          "metadata": {},
          "output_type": "execute_result"
        }
      ],
      "source": [
        "print('Betweenness for Producers->')\n",
        "producer_betweenness[:3]"
      ]
    },
    {
      "cell_type": "code",
      "execution_count": 74,
      "metadata": {},
      "outputs": [
        {
          "name": "stdout",
          "output_type": "stream",
          "text": [
            "Betweenness for Directors->\n"
          ]
        },
        {
          "data": {
            "text/plain": [
              "[('Ridley Scott', 0.011246156997316837),\n",
              " ('Steven Spielberg', 0.007576609567366789),\n",
              " ('Tim Burton', 0.005578533063728941)]"
            ]
          },
          "execution_count": 74,
          "metadata": {},
          "output_type": "execute_result"
        }
      ],
      "source": [
        "print('Betweenness for Directors->')\n",
        "director_betweenness[:3]"
      ]
    },
    {
      "cell_type": "code",
      "execution_count": 75,
      "metadata": {},
      "outputs": [
        {
          "name": "stdout",
          "output_type": "stream",
          "text": [
            "Betweenness for Casting Directors->\n"
          ]
        },
        {
          "data": {
            "text/plain": [
              "[('Mary Hidalgo', 0.050085236006449034),\n",
              " ('Lucinda Syson', 0.040871030304190814),\n",
              " ('Sarah Finn', 0.03589732224501019)]"
            ]
          },
          "execution_count": 75,
          "metadata": {},
          "output_type": "execute_result"
        }
      ],
      "source": [
        "print('Betweenness for Casting Directors->')\n",
        "casting_betweenness[:3]"
      ]
    },
    {
      "cell_type": "code",
      "execution_count": 76,
      "metadata": {
        "id": "p9LtuByWYeNr"
      },
      "outputs": [],
      "source": [
        "# Finding the clustering coefficient of each node in the graph for each job\n",
        "g_clustering=nx.clustering(g)\n",
        "g_clustering=list(g_clustering.items())\n",
        "\n",
        "actor_clustering = [(g.nodes[a[0]]['name'],a[1]) for a in g_clustering if g.nodes[a[0]]['job']=='actor' and int(a[1])!=1]\n",
        "actor_clustering.sort(key=lambda x: x[1],reverse=True)\n",
        "\n",
        "producer_clustering = [(g.nodes[p[0]]['name'],p[1]) for p in g_clustering if g.nodes[p[0]]['job']=='Producer' and int(p[1])!=1]\n",
        "producer_clustering.sort(key=lambda x: x[1],reverse=True)\n",
        "\n",
        "director_clustering=[(g.nodes[d[0]]['name'],d[1]) for d in g_clustering if g.nodes[d[0]]['job']=='Director' and int(d[1])!=1]\n",
        "director_clustering.sort(key=lambda x: x[1],reverse=True)\n",
        "\n",
        "casting_clustering=[(g.nodes[c[0]]['name'],c[1]) for c in g_clustering if g.nodes[c[0]]['job']=='Casting' and int(c[1])!=1]\n",
        "casting_clustering.sort(key=lambda x: x[1],reverse=True)\n"
      ]
    },
    {
      "cell_type": "code",
      "execution_count": 82,
      "metadata": {},
      "outputs": [
        {
          "name": "stdout",
          "output_type": "stream",
          "text": [
            "Clustering for Actors\n"
          ]
        },
        {
          "data": {
            "text/plain": [
              "[('Tom Hiddleston', 0.9642857142857143),\n",
              " ('Josh Duhamel', 0.9454545454545454),\n",
              " ('Shailene Woodley', 0.9090909090909091)]"
            ]
          },
          "execution_count": 82,
          "metadata": {},
          "output_type": "execute_result"
        }
      ],
      "source": [
        "print('Clustering for Actors')\n",
        "actor_clustering[:3]"
      ]
    },
    {
      "cell_type": "code",
      "execution_count": 81,
      "metadata": {},
      "outputs": [
        {
          "name": "stdout",
          "output_type": "stream",
          "text": [
            "Clustering for Producers\n"
          ]
        },
        {
          "data": {
            "text/plain": [
              "[('Nina Jacobson', 0.9523809523809523),\n",
              " ('Bill Miller', 0.9523809523809523),\n",
              " ('Dan Lin', 0.9454545454545454)]"
            ]
          },
          "execution_count": 81,
          "metadata": {},
          "output_type": "execute_result"
        }
      ],
      "source": [
        "print('Clustering for Producers')\n",
        "producer_clustering[:3]"
      ]
    },
    {
      "cell_type": "code",
      "execution_count": 80,
      "metadata": {},
      "outputs": [
        {
          "name": "stdout",
          "output_type": "stream",
          "text": [
            "Clustering for Directors\n"
          ]
        },
        {
          "data": {
            "text/plain": [
              "[('Guy Ritchie', 0.9454545454545454),\n",
              " ('Steven Soderbergh', 0.9333333333333333),\n",
              " ('Anthony Russo', 0.9166666666666666)]"
            ]
          },
          "execution_count": 80,
          "metadata": {},
          "output_type": "execute_result"
        }
      ],
      "source": [
        "print('Clustering for Directors')\n",
        "director_clustering[:3]"
      ]
    },
    {
      "cell_type": "code",
      "execution_count": 79,
      "metadata": {},
      "outputs": [
        {
          "name": "stdout",
          "output_type": "stream",
          "text": [
            "Clustering for Casting Directors->\n"
          ]
        },
        {
          "data": {
            "text/plain": [
              "[('Robin Gurland', 0.9333333333333333),\n",
              " ('Marianne Stanicheva', 0.9272727272727272),\n",
              " ('Venus Kanani', 0.9090909090909091)]"
            ]
          },
          "execution_count": 79,
          "metadata": {},
          "output_type": "execute_result"
        }
      ],
      "source": [
        "print('Clustering for Casting Directors->')\n",
        "casting_clustering[:3]"
      ]
    }
  ],
  "metadata": {
    "colab": {
      "provenance": []
    },
    "kernelspec": {
      "display_name": "Python 3",
      "name": "python3"
    },
    "language_info": {
      "codemirror_mode": {
        "name": "ipython",
        "version": 3
      },
      "file_extension": ".py",
      "mimetype": "text/x-python",
      "name": "python",
      "nbconvert_exporter": "python",
      "pygments_lexer": "ipython3",
      "version": "3.10.1"
    }
  },
  "nbformat": 4,
  "nbformat_minor": 0
}
