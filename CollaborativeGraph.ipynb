{
  "cells": [
    {
      "cell_type": "code",
      "execution_count": 33,
      "metadata": {
        "id": "E38wKwaURsx_"
      },
      "outputs": [],
      "source": [
        "import pandas as pd\n",
        "import json\n",
        "import networkx as nx\n",
        "# %pip install scipy==1.8.0"
      ]
    },
    {
      "cell_type": "code",
      "execution_count": 34,
      "metadata": {
        "id": "Zh5t_j4eR5uI"
      },
      "outputs": [
        {
          "data": {
            "text/html": [
              "<div>\n",
              "<style scoped>\n",
              "    .dataframe tbody tr th:only-of-type {\n",
              "        vertical-align: middle;\n",
              "    }\n",
              "\n",
              "    .dataframe tbody tr th {\n",
              "        vertical-align: top;\n",
              "    }\n",
              "\n",
              "    .dataframe thead th {\n",
              "        text-align: right;\n",
              "    }\n",
              "</style>\n",
              "<table border=\"1\" class=\"dataframe\">\n",
              "  <thead>\n",
              "    <tr style=\"text-align: right;\">\n",
              "      <th></th>\n",
              "      <th>movie_id</th>\n",
              "      <th>title</th>\n",
              "      <th>cast</th>\n",
              "      <th>crew</th>\n",
              "    </tr>\n",
              "  </thead>\n",
              "  <tbody>\n",
              "    <tr>\n",
              "      <th>0</th>\n",
              "      <td>19995</td>\n",
              "      <td>Avatar</td>\n",
              "      <td>[{\"cast_id\": 242, \"character\": \"Jake Sully\", \"...</td>\n",
              "      <td>[{\"credit_id\": \"52fe48009251416c750aca23\", \"de...</td>\n",
              "    </tr>\n",
              "    <tr>\n",
              "      <th>1</th>\n",
              "      <td>285</td>\n",
              "      <td>Pirates of the Caribbean: At World's End</td>\n",
              "      <td>[{\"cast_id\": 4, \"character\": \"Captain Jack Spa...</td>\n",
              "      <td>[{\"credit_id\": \"52fe4232c3a36847f800b579\", \"de...</td>\n",
              "    </tr>\n",
              "    <tr>\n",
              "      <th>2</th>\n",
              "      <td>206647</td>\n",
              "      <td>Spectre</td>\n",
              "      <td>[{\"cast_id\": 1, \"character\": \"James Bond\", \"cr...</td>\n",
              "      <td>[{\"credit_id\": \"54805967c3a36829b5002c41\", \"de...</td>\n",
              "    </tr>\n",
              "    <tr>\n",
              "      <th>3</th>\n",
              "      <td>49026</td>\n",
              "      <td>The Dark Knight Rises</td>\n",
              "      <td>[{\"cast_id\": 2, \"character\": \"Bruce Wayne / Ba...</td>\n",
              "      <td>[{\"credit_id\": \"52fe4781c3a36847f81398c3\", \"de...</td>\n",
              "    </tr>\n",
              "    <tr>\n",
              "      <th>4</th>\n",
              "      <td>49529</td>\n",
              "      <td>John Carter</td>\n",
              "      <td>[{\"cast_id\": 5, \"character\": \"John Carter\", \"c...</td>\n",
              "      <td>[{\"credit_id\": \"52fe479ac3a36847f813eaa3\", \"de...</td>\n",
              "    </tr>\n",
              "  </tbody>\n",
              "</table>\n",
              "</div>"
            ],
            "text/plain": [
              "   movie_id                                     title  \\\n",
              "0     19995                                    Avatar   \n",
              "1       285  Pirates of the Caribbean: At World's End   \n",
              "2    206647                                   Spectre   \n",
              "3     49026                     The Dark Knight Rises   \n",
              "4     49529                               John Carter   \n",
              "\n",
              "                                                cast  \\\n",
              "0  [{\"cast_id\": 242, \"character\": \"Jake Sully\", \"...   \n",
              "1  [{\"cast_id\": 4, \"character\": \"Captain Jack Spa...   \n",
              "2  [{\"cast_id\": 1, \"character\": \"James Bond\", \"cr...   \n",
              "3  [{\"cast_id\": 2, \"character\": \"Bruce Wayne / Ba...   \n",
              "4  [{\"cast_id\": 5, \"character\": \"John Carter\", \"c...   \n",
              "\n",
              "                                                crew  \n",
              "0  [{\"credit_id\": \"52fe48009251416c750aca23\", \"de...  \n",
              "1  [{\"credit_id\": \"52fe4232c3a36847f800b579\", \"de...  \n",
              "2  [{\"credit_id\": \"54805967c3a36829b5002c41\", \"de...  \n",
              "3  [{\"credit_id\": \"52fe4781c3a36847f81398c3\", \"de...  \n",
              "4  [{\"credit_id\": \"52fe479ac3a36847f813eaa3\", \"de...  "
            ]
          },
          "execution_count": 34,
          "metadata": {},
          "output_type": "execute_result"
        }
      ],
      "source": [
        "df=pd.read_csv('C:/Users/karti/OneDrive/Desktop/IIA Project/data/tmdb_5000_credits.csv')\n",
        "df.head()"
      ]
    },
    {
      "cell_type": "code",
      "execution_count": 35,
      "metadata": {
        "id": "C4XPCrdoTxSp"
      },
      "outputs": [],
      "source": [
        "cast_list = df.cast.tolist()\n",
        "# print(cast_list[0])\n",
        "# print(len(cast_list))\n",
        "crew_list = df.crew.tolist()\n",
        "# print(cast_list[0])\n",
        "# print(len(cast_list))\n",
        "movie_list = df.movie_id.tolist()\n",
        "# print(movie_list[0])\n",
        "# print(len(movie_list))"
      ]
    },
    {
      "cell_type": "code",
      "execution_count": 36,
      "metadata": {
        "id": "2mfiX2PGY237"
      },
      "outputs": [],
      "source": [
        "# Creating a mapping of movie_id to cast and crew\n",
        "m_mapping={}\n",
        "for i in range(int(len(cast_list)/10)):\n",
        "  obj1 = json.loads(cast_list[i])\n",
        "  obj1 = obj1[:3]\n",
        "  obj2 = json.loads(crew_list[i])\n",
        "  crew_set = set()\n",
        "  for crew_i in obj2:\n",
        "    if crew_i['job'] == 'Producer' or crew_i['job'] == 'Director' or crew_i['job'] == 'Casting':\n",
        "      crew_set.add((crew_i['id'],crew_i['name'],crew_i['job']))\n",
        "  for actor_i in obj1:\n",
        "      crew_set.add((actor_i['id'],actor_i['name'],'actor'))\n",
        "  m_mapping[movie_list[i]]=list(crew_set)"
      ]
    },
    {
      "cell_type": "code",
      "execution_count": 37,
      "metadata": {
        "id": "CBCps_PjwdZk"
      },
      "outputs": [
        {
          "name": "stdout",
          "output_type": "stream",
          "text": [
            "{(2387, 'Patrick Stewart', 'actor'), (23532, 'Jason Bateman', 'actor'), (12922, 'Gary Foster', 'Producer'), (17522, 'Cécile de France', 'actor'), (976, 'Jason Statham', 'actor'), (893, 'Tony Scott', 'Director'), (70851, 'Jack Black', 'actor'), (587020, 'Theo James', 'actor'), (19292, 'Adam Sandler', 'Producer'), (1730, 'Judith Holstra', 'Casting'), (108, 'Peter Jackson', 'Producer'), (36602, 'Peter Berg', 'Director'), (27098, 'Gary Goetzman', 'Producer'), (11874, 'Neal H. Moritz', 'Producer'), (62047, 'Gary Trousdale', 'Director'), (76590, 'Jinko Gotoh', 'Producer'), (64151, 'Mike Mitchell', 'Director'), (42265, 'Peter M. Tobyansen', 'Producer'), (53393, 'Zane Weiner', 'Producer'), (50769, 'Sarah Aubrey', 'Producer'), (1536578, 'Michael J. Travers', 'Producer'), (668, 'Mary Selway', 'Casting'), (4505, 'Michael Bostick', 'Producer'), (54050, 'Mark Waters', 'Director'), (32532, 'Brad Lewis', 'Director'), (21125, 'Richard Kind', 'actor'), (2399, 'Junie Lowry-Johnson', 'Casting'), (227439, 'Don Hall', 'Director'), (20674, 'Thomas Langmann', 'Director'), (82194, 'Neill Blomkamp', 'Producer'), (52300, 'Claudia Christian', 'actor'), (5231, 'Wolfgang Petersen', 'Director'), (16363, 'Nina Gold', 'Casting'), (54040, 'John Lee Hancock', 'Director'), (13633, 'Mark Addy', 'actor'), (58470, 'Donald De Line', 'Producer'), (17380, 'Jay Chou', 'actor'), (31710, 'David Hoberman', 'Producer'), (6839, 'Fritz Weaver', 'actor'), (59425, 'Mickie Paskal', 'Casting'), (1979, 'Kevin Spacey', 'actor'), (19272, 'Joe Russo', 'Director'), (62725, 'Lisa Fields', 'Casting'), (17286, 'Lena Headey', 'actor'), (4699, 'Steve Perry', 'Producer'), (16483, 'Sylvester Stallone', 'Director'), (1046729, 'Jessica Kelly', 'Casting'), (23905, 'Lynn Kressel', 'Casting'), (1133500, 'Denton Douglas', 'Casting'), (38026, 'Chris Noth', 'actor'), (1749, 'Leonard Nimoy', 'actor'), (500, 'Tom Cruise', 'Producer'), (76595, 'Byron Howard', 'Director'), (1215, 'Raja Gosnell', 'Director'), (856, 'Ben Gazzara', 'actor'), (1018073, 'Reg Poerscout-Edgerton', 'Casting'), (474, 'Jina Jay', 'Casting'), (12911, 'Helene Plotkin', 'Producer'), (10850, 'Kevin Feige', 'Producer'), (2130, 'Cary Elwes', 'actor'), (13922, 'Seth Green', 'actor'), (19899, 'Dennis Storhøi', 'actor'), (15232, 'Ty Burrell', 'actor'), (58140, 'Bill Miller', 'Producer'), (20374, 'Teresa Palmer', 'actor'), (9994, 'Helen Hunt', 'actor'), (4589, 'Benjamin Bratt', 'actor'), (17630, 'Michael Tadross', 'Producer'), (1071, 'Tom Tykwer', 'Director'), (45648, 'Emma Tillinger Koskoff', 'Producer'), (14407, 'Matt LeBlanc', 'actor'), (74568, 'Chris Hemsworth', 'actor'), (941088, 'Dale G. Bradley', 'Producer'), (23229, 'Carice van Houten', 'actor'), (60077, 'Douglas Smith', 'actor'), (5231, 'Wolfgang Petersen', 'Producer'), (8528, 'Grant Hill', 'Producer'), (8786, 'Ayelet Zurer', 'actor'), (17610, 'Kristy Carlson', 'Casting'), (9824, 'Diane Kruger', 'actor'), (11448, 'Allen Hughes', 'Director'), (6161, 'Jennifer Connelly', 'actor'), (56903, 'Tracy Morgan', 'actor'), (82093, 'Daniel Henney', 'actor'), (1420856, 'Mito Skellern', 'Casting'), (61411, 'Mark Dindal', 'Director'), (8170, 'Eva Mendes', 'actor'), (956258, 'Jeffrey M. Weiner', 'Producer'), (58728, 'Andrei Konchalovsky', 'Director'), (53756, 'Tom Lassally', 'Producer'), (28974, 'Damon Lindelof', 'Producer'), (366, 'James Mangold', 'Director'), (6383, 'Aaron Eckhart', 'actor'), (228, 'Ed Harris', 'actor'), (1533796, 'Julien Naveau', 'Producer'), (23779, 'Jack Rapke', 'Producer'), (17494, 'Dennis Dugan', 'Director'), (4506, 'James D. Brubaker', 'Producer'), (57270, 'Robert Schwentke', 'Director'), (86270, 'Joseph Kosinski', 'Producer'), (6449, 'Warren Beatty', 'actor'), (8945, 'Kevin Kline', 'actor'), (34970, 'Susan Montford', 'Producer'), (224664, 'Satomi Ishihara', 'actor'), (2352, 'Jean-Jacques Annaud', 'Producer'), (103, 'Mark Ruffalo', 'actor'), (12052, 'Gwyneth Paltrow', 'actor'), (42736, 'David Womark', 'Producer'), (4726, 'Marcia Gay Harden', 'actor'), (62862, 'Danny McBride', 'actor'), (8858, 'Ivan Reitman', 'Producer'), (11701, 'Angelina Jolie', 'actor'), (61295, 'Bonne Radford', 'Producer'), (58225, 'Zach Galifianakis', 'actor'), (10702, 'Martin Campbell', 'Director'), (11181, 'Kenneth Branagh', 'actor'), (34336, 'Laura Fattori', 'Producer'), (5580, 'Peter Macgregor-Scott', 'Producer'), (1527481, 'Craig Schulz', 'Producer'), (77948, 'Selena Gomez', 'actor'), (59641, 'Ted Hartley', 'Producer'), (15557, 'Bill Condon', 'Director'), (8329, 'Radha Mitchell', 'actor'), (1414734, 'Neel Sethi', 'actor'), (1040898, 'Alexander Rodnyansky', 'Producer'), (1616018, 'Sebastián Álvarez', 'Producer'), (6159, 'Ron Howard', 'Director'), (977941, 'Matt Tolmach', 'Producer'), (10903, 'Henning Molfenter', 'Producer'), (24, 'Robert Zemeckis', 'Producer'), (138, 'Quentin Tarantino', 'Director'), (17208, 'Danny Lerner', 'Producer'), (6869, 'Mike Fleiss', 'Producer'), (4512, 'James Woods', 'actor'), (53346, 'Kate Dowd', 'Casting'), (49918, 'Charlie Tahan', 'actor'), (17787, 'Phyllida Law', 'actor'), (9185, 'Tom Engelman', 'Producer'), (1204, 'Julia Roberts', 'actor'), (3063, 'Tilda Swinton', 'actor'), (1, 'George Lucas', 'Director'), (1152, 'Oliver Stone', 'Director'), (11064, 'David Strathairn', 'actor'), (89320, 'Tim Lewis', 'Producer'), (27972, 'Josh Hutcherson', 'actor'), (76070, 'Mia Wasikowska', 'actor'), (944363, 'Sid Krofft', 'Producer'), (5713, 'Chris Wedge', 'actor'), (18979, 'Christina Applegate', 'actor'), (19156, 'Kathy Driscoll', 'Casting'), (16837, 'Mark Steven Johnson', 'Director'), (12909, 'Karen Robert Jackson', 'Producer'), (76793, 'Irrfan Khan', 'actor'), (15810, 'Ron Clements', 'Director'), (1810, 'Heath Ledger', 'actor'), (4939, 'Téa Leoni', 'actor'), (57673, 'Kevin Reher', 'Casting'), (89030, 'Curtis A. Koller', 'Casting'), (1240514, 'Ole Søndberg', 'Producer'), (17611, 'Andrea Kenyon', 'Casting'), (18460, 'Adrián Alonso Barona', 'actor'), (9562, 'Marlon Wayans', 'actor'), (116277, 'Nathalie Kelley', 'actor'), (2975, 'Laurence Fishburne', 'actor'), (16390, 'Donald W. Ernst', 'Producer'), (15218, 'James Gunn', 'Director'), (71141, 'Peter O. Almond', 'Producer'), (929, 'David Franzoni', 'Producer'), (74827, 'Lynn Hendee', 'Producer'), (23545, 'Robin D. Cook', 'Casting'), (5292, 'Denzel Washington', 'Producer'), (599, 'Marci Liroff', 'Casting'), (58657, 'Paul Winze', 'Producer'), (1074886, 'Brian Taylor', 'Producer'), (535878, 'Bruce Anderson', 'Producer'), (38269, 'Jane Sindell', 'Producer'), (17838, 'Rami Malek', 'actor'), (55636, 'Donald Sutherland', 'actor'), (7903, 'Mary Hidalgo', 'Casting'), (19537, 'Megan Fox', 'actor'), (17647, 'Michelle Rodriguez', 'actor'), (48310, 'Catherine Vandeleene', 'Producer'), (1255, 'David Mamet', 'Director'), (1106862, 'Maryann Garger', 'Producer'), (206, 'Jim Carrey', 'Producer'), (91606, 'Tom Hiddleston', 'actor'), (8181, 'Michael Fottrell', 'Producer'), (6959, 'Justine Baddeley', 'Casting'), (1128254, 'Anne Bruning', 'Producer'), (60245, 'Scott Mednick', 'Producer'), (1353, 'Zhang Weiping', 'Producer'), (15818, 'Alice Dewey', 'Producer'), (60, 'Patrice Ledoux', 'Producer'), (1620, 'Michelle Yeoh', 'actor'), (21089, 'Bruce Greenwood', 'actor'), (4517, 'Joe Pesci', 'actor'), (55599, 'Winship Cook', 'Producer'), (84214, 'Taylor Lautner', 'actor'), (555946, 'Peter Rasmussen', 'Casting'), (8924, 'Frank Langella', 'actor'), (59, 'Luc Besson', 'Director'), (897, 'Bonnie Timmermann', 'Casting'), (19801, 'Rick McCallum', 'Producer'), (5528, 'William Moseley', 'actor'), (18864, 'Tom McGrath', 'Director'), (1476748, 'Jack Bright', 'actor'), (5538, 'Ray Winstone', 'actor'), (928605, 'Monica Lago-Kaytis', 'Producer'), (21702, 'Ming-Na Wen', 'actor'), (80752, 'Shinji Higuchi', 'Director'), (84851, 'Hoyt Yeatman', 'Director'), (8435, 'Stephen Dillane', 'actor'), (1005814, 'Max Handelman', 'Producer'), (8965, 'Roland Joffé', 'Director'), (20514, 'Michael Levy', 'Producer'), (996701, 'Miles Teller', 'actor'), (11651, 'Doug Mitchell', 'Producer'), (6213, 'Jamie Kennedy', 'actor'), (186605, 'Terri Douglas', 'Casting'), (1593, 'Joseph Middleton', 'Casting'), (5294, 'Chiwetel Ejiofor', 'actor'), (879, 'Billy Bob Thornton', 'actor'), (2211, 'Gerald R. Molen', 'Producer'), (46080, 'James Lassiter', 'Producer'), (5526, 'Georgie Henley', 'actor'), (12756, 'John D. Schofield', 'Producer'), (134, 'Jamie Foxx', 'actor'), (1125540, 'Ajit Singh', 'Producer'), (8193, 'Florian Henckel von Donnersmarck', 'Director'), (1108, 'Shane Black', 'Director'), (30696, 'Janice Karman', 'Producer'), (1248, 'Brian Cox', 'actor'), (17051, 'James Franco', 'actor'), (15219, 'Marc Abraham', 'Producer'), (882, 'Liv Tyler', 'actor'), (23626, 'Liev Schreiber', 'actor'), (7623, 'Sam Raimi', 'Director'), (21657, 'Vera Farmiga', 'actor'), (6347, 'Margery Simkin', 'Casting'), (12098, 'Chris Miller', 'actor'), (8529, 'Jon Landau', 'Producer'), (58737, 'Jack McBrayer', 'actor'), (15148, 'Jon Amiel', 'Director'), (928414, 'Rachel Tenner', 'Casting'), (45589, 'Dakota Blue Richards', 'actor'), (58727, 'Jamie Renée Smith', 'actor'), (11355, 'Jason Isaacs', 'actor'), (49917, 'Tracy Tormé', 'Producer'), (8197, 'Sebastian Koch', 'actor'), (6408, 'Nick Stahl', 'actor'), (2031, 'Amanda Mackey', 'Casting'), (21692, 'Hironobu Sakaguchi', 'Director'), (28641, 'Terence Stamp', 'actor'), (4764, 'John C. Reilly', 'actor'), (2953, 'Lora Kennedy', 'Casting'), (1262, 'Mali Finn', 'Casting'), (9032, 'Bryan Singer', 'Director'), (1245, 'Scarlett Johansson', 'actor'), (11108, 'Simon Pegg', 'actor'), (30, 'Steve Starkey', 'Producer'), (4767, 'Michael De Luca', 'Producer'), (24886, 'Frédéric Forestier', 'Producer'), (29403, 'Andrew R. Tennenbaum', 'Producer'), (41419, 'Hugh Laurie', 'actor'), (15556, 'Rebecca Hall', 'actor'), (38664, 'Sullivan Stapleton', 'actor'), (166002, 'Itzhak Perlman', 'actor'), (12203, 'Christine King', 'Casting'), (3490, 'Adrien Brody', 'actor'), (73968, 'Henry Cavill', 'actor'), (33, 'Gary Sinise', 'actor'), (1223786, 'Emilia Clarke', 'actor'), (915, 'David Giler', 'Producer'), (10727, 'John Hannah', 'actor'), (4782, 'Michael Crichton', 'Producer'), (18182, 'Olga Kurylenko', 'actor'), (9575, 'Jada Pinkett Smith', 'Producer'), (5820, 'Alberto Grimaldi', 'Producer'), (15531, 'Ossie Davis', 'actor'), (528783, 'Brittainy Roberts', 'Casting'), (72102, 'Bill Block', 'Producer'), (1233, 'Philip Seymour Hoffman', 'actor'), (1368881, 'Hristo Dimitrov', 'Casting'), (55500, 'Paul Harris Boardman', 'Producer'), (1282, 'David Kelly', 'actor'), (1101410, 'Dave Green', 'Director'), (8300, 'Kevin Reynolds', 'Director'), (56109, 'Michael Bregman', 'Producer'), (25549, 'John Brace', 'Casting'), (11090, 'Edgar Wright', 'Director'), (18793, 'Kieran Culkin', 'actor'), (10950, 'Erwin Stoff', 'Producer'), (116, 'Keira Knightley', 'actor'), (5541, 'Philip Steuer', 'Producer'), (60929, 'Lara Breay', 'Producer'), (10860, 'Jessica Biel', 'actor'), (62927, 'Guy J. Louthan', 'Producer'), (18892, 'Goldie Hawn', 'actor'), (1530, 'Howard Feuer', 'Casting'), (515510, 'Ryan Potter', 'actor'), (11401, 'John Woo', 'Producer'), (4945, 'Joe Johnston', 'Director'), (2073, 'Gail Stevens', 'Casting'), (3087, 'Robert Duvall', 'actor'), (11420, 'Gianni Nunnari', 'Producer'), (12962, 'Jon Turteltaub', 'Producer'), (23659, 'Will Ferrell', 'Producer'), (53329, 'David Sproxton', 'Producer'), (65629, 'Bibo Bergeron', 'Director'), (1269, 'Kevin Costner', 'Producer'), (58897, 'Sam Fell', 'Director'), (2176, 'Tommy Lee Jones', 'actor'), (68215, 'Reginald Hudlin', 'Producer'), (1470237, 'Jerry Davis', 'Producer'), (1466122, 'Ben Smith', 'Producer'), (8213, 'Sam Robards', 'actor'), (504, 'Tim Robbins', 'actor'), (1333932, 'Elizabeth Coulon', 'Casting'), (65857, 'Pam Marsden', 'Producer'), (2236, 'Tim Bevan', 'Producer'), (558928, 'Max Charles', 'actor'), (2963, 'Nicolas Cage', 'actor'), (5577, \"Chris O'Donnell\", 'actor'), (60665, 'Jo Edna Boldin', 'Casting'), (944364, 'Marty Krofft', 'Producer'), (10965, 'Chris Columbus', 'Producer'), (14392, 'Kathryn Bigelow', 'Director'), (29015, 'Robert Simonds', 'Producer'), (1002917, 'Soren Staermose', 'Producer'), (44118, 'Cameron Stevning', 'Producer'), (18973, 'Mila Kunis', 'actor'), (8419, 'William M. Connor', 'Producer'), (10989, 'Rupert Grint', 'actor'), (12824, 'Don Hahn', 'Director'), (1282435, 'Colin Wilson', 'Producer'), (1003947, 'Joe M. Aguilar', 'Producer'), (7731, 'Elaine J. Huzzar', 'Casting'), (69163, 'Pam Coats', 'Producer'), (12080, 'Conrad Vernon', 'Director'), (31, 'Tom Hanks', 'Producer'), (12074, 'John Lithgow', 'actor'), (1617, 'James Schamus', 'Producer'), (77700, 'Travis Fimmel', 'actor'), (1102197, 'Santa Pestonji', 'Producer'), (1116091, 'Scott Franklin', 'Producer'), (7880, 'Kori Rae', 'Producer'), (37162, 'Susan Downey', 'Producer'), (17141, 'Greg Kinnear', 'actor'), (48309, 'Paul Breuls', 'Producer'), (37710, 'Peter Hyams', 'Director'), (17628, 'Mary Elizabeth Winstead', 'actor'), (1398505, 'Suzanne M. Smith', 'Casting'), (12097, 'Christopher Knights', 'actor'), (12905, 'Ash Brannon', 'Director'), (11664, 'Zooey Deschanel', 'actor'), (465, 'Tessa Ross', 'Producer'), (1276602, 'Kellie Roy', 'Casting'), (2623, 'Moonyeenn Lee', 'Casting'), (339, 'Brian Grazer', 'Producer'), (51613, 'Jason Blumenthal', 'Producer'), (41686, 'Neil Patrick Harris', 'actor'), (7779, 'Sean Daniel', 'Producer'), (18997, 'Bryce Dallas Howard', 'actor'), (1492646, 'Sande Alessi', 'Casting'), (1892, 'Matt Damon', 'Producer'), (10205, 'Sigourney Weaver', 'actor'), (7185, 'Michael Chinich', 'Casting'), (12, 'Alexander Gould', 'actor'), (5527, 'Skandar Keynes', 'actor'), (964905, 'Victor Kubicek', 'Producer'), (1091, 'Joel Silver', 'Producer'), (19394, 'Idina Menzel', 'actor'), (4430, 'Sharon Stone', 'actor'), (27562, 'Jean Doumanian', 'Producer'), (45861, 'Tom Jacobson', 'Producer'), (63544, 'Steven Culp', 'actor'), (6493, 'Ilene Starger', 'Casting'), (38673, 'Channing Tatum', 'actor'), (12099, 'Raman Hui', 'Director'), (1121, 'Benicio del Toro', 'Producer'), (5723, 'John Leguizamo', 'actor'), (7256, 'Lee Tamahori', 'Director'), (6949, 'John Malkovich', 'actor'), (1394560, 'Paul Cruz', 'Casting'), (57601, 'Joe Medjuck', 'Producer'), (1113, 'Lucinda Syson', 'Casting'), (98285, 'Bella Thorne', 'actor'), (131, 'Jake Gyllenhaal', 'actor'), (10496, 'Debbie McWilliams', 'Casting'), (56996, 'Christopher Godsick', 'Producer'), (7200, 'Lauren Shuler Donner', 'Producer'), (8401, 'Mark Huffam', 'Producer'), (1195356, 'Ben Parkinson', 'Casting'), (10666, 'Barbara Broccoli', 'Producer'), (12835, 'Vin Diesel', 'Producer'), (109, 'Elijah Wood', 'actor'), (52700, 'Michelle Murdocca', 'Producer'), (11066, 'Hal Holbrook', 'actor'), (7940, 'Jonas Rivera', 'Producer'), (1150, 'Brian De Palma', 'Director'), (7187, 'Richard Donner', 'Producer'), (22226, 'Paul Rudd', 'actor'), (15220, 'Eric Newman', 'Producer'), (1090, 'John McTiernan', 'Producer'), (3999, 'Tom Hulce', 'actor'), (935504, 'Ayush Tandon', 'actor'), (9015, 'Kelly Macdonald', 'actor'), (2954, 'Jeffrey Wright', 'actor'), (1117282, 'Philip Key', 'Producer'), (61624, 'Ann Robinson', 'Casting'), (7166, 'Kevin Pollak', 'actor'), (68812, 'Ed Asner', 'actor'), (4785, 'Jeff Goldblum', 'actor'), (56612, 'Roy Conli', 'Producer'), (6052, 'April Webster', 'Casting'), (88816, 'Noah Ringer', 'actor'), (1436522, 'Paul Shikata', 'Casting'), (7090, 'Kelsey Grammer', 'actor'), (71497, 'Barnet Bain', 'Producer'), (1095253, 'John Lesher', 'Producer'), (11107, 'Ben Foster', 'actor'), (1423358, 'Crystal Kramer', 'Casting'), (11856, 'Daniel Day-Lewis', 'actor'), (21028, 'Anton Yelchin', 'actor'), (11863, 'Sarah Michelle Gellar', 'actor'), (37297, 'Daniel Bobker', 'Producer'), (54211, 'Thomas Tull', 'Producer'), (10182, 'Ving Rhames', 'actor'), (61397, 'Jimmy Miller', 'Producer'), (15440, 'Jared Harris', 'actor'), (1196351, 'Jeremy Rich', 'Casting'), (15757, 'Ray Romano', 'actor'), (41587, 'Armyan Bernstein', 'Producer'), (1456379, 'Mustapha Charif', 'Casting'), (8374, 'Iain Smith', 'Producer'), (76512, 'Jason Clarke', 'actor'), (380, 'Robert De Niro', 'actor'), (1017347, 'Brenton Thwaites', 'actor'), (1345611, 'Tara Feldstein', 'Casting'), (6431, 'Darren Aronofsky', 'Director'), (51072, 'Kate Mara', 'actor'), (1127865, 'Ann Fay', 'Casting'), (49067, 'Sylvie Pialat', 'Producer'), (15152, 'James Earl Jones', 'actor'), (1117948, 'Cort Kristensen', 'Producer'), (57614, 'Bill Borden', 'Producer'), (638, 'Michael Mann', 'Producer'), (2710, 'James Cameron', 'Director'), (12930, 'Gaby Hoffmann', 'actor'), (12995, 'Marc Forster', 'Director'), (52018, 'Britt Robertson', 'actor'), (65856, 'Eric Leighton', 'Director'), (2212, 'Walter F. Parkes', 'Producer'), (5174, 'Barry Sonnenfeld', 'Director'), (954164, 'Georgina Pope', 'Producer'), (14, 'Ellen DeGeneres', 'actor'), (9188, 'Billy Connolly', 'actor'), (1098600, 'Hiroki Hasegawa', 'actor'), (57741, 'Mark Osborne', 'Director'), (3292, 'Nicholas Hoult', 'actor'), (40462, 'Kristen Bell', 'actor'), (1319119, \"Ania Kamieniecki-O'Hare\", 'Casting'), (17699, 'Bruce A. Block', 'Producer'), (4730, 'Emmy Rossum', 'actor'), (954433, 'Alejandro Reza', 'Casting'), (23964, 'Gary Ross', 'Producer'), (18082, 'Timothy Olyphant', 'actor'), (25453, 'Stefen Fangmeier', 'Director'), (27218, 'Sandy Climan', 'Producer'), (934803, 'Josh Trank', 'Director'), (17698, 'Nancy Meyers', 'Director'), (3905, 'William H. Macy', 'actor'), (1821075, 'Masaya Shibusawa', 'Producer'), (2505, 'James Cromwell', 'actor'), (58366, 'John P. Melfi', 'Producer'), (1463954, 'Dixie Webster', 'Casting'), (18269, 'Brendan Fraser', 'actor'), (12077, 'Jim Cummings', 'actor'), (1018958, 'Toby Whale', 'Casting'), (5363, 'Coreen Mayrs', 'Casting'), (6737, 'Jay Roach', 'Director'), (1334535, 'Diego Betancor', 'Casting'), (1459947, 'Sandra Mooney', 'Casting'), (1198829, 'Kirsty McGregor', 'Casting'), (63989, 'Julie Yorn', 'Producer'), (7087, 'Brad Bird', 'Producer'), (21865, 'Gail Katz', 'Producer'), (8984, 'Bill Pullman', 'actor'), (27005, 'Don Michael Paul', 'Director'), (2710, 'James Cameron', 'Producer'), (52851, 'Paula Patton', 'actor'), (488, 'Steven Spielberg', 'Director'), (25598, 'Paul Greengrass', 'Producer'), (1297, 'Richard D. Zanuck', 'Producer'), (138616, 'Kristine Belson', 'Producer'), (494, 'Terri Taylor', 'Casting'), (64127, 'Bill Corless', 'Producer'), (1003, 'Jean Reno', 'actor'), (3311, 'Priscilla John', 'Casting'), (10685, 'Laurence Mark', 'Producer'), (418, 'Robert Patrick', 'actor'), (1016177, 'Miranda Rivers', 'Casting'), (28846, 'Alexander Skarsgård', 'actor'), (936669, 'Latifa Ouaou', 'Producer'), (12028, 'John Moore', 'Director'), (18322, 'Donna Roth', 'Producer'), (38939, 'Richard Baratta', 'Producer'), (67759, 'Basil Iwanyk', 'Producer'), (42272, 'Chris Juen', 'Producer'), (59192, 'Emmanuelle Chriqui', 'actor'), (15344, 'J.J. Abrams', 'Director'), (17825, 'Shawn Levy', 'Director'), (290, 'Christopher Plummer', 'actor'), (17698, 'Nancy Meyers', 'Producer'), (12859, 'Steven Lisberger', 'Producer'), (25365, 'Richard Hicks', 'Casting'), (18750, 'Annabella Sciorra', 'actor'), (63, 'Milla Jovovich', 'actor'), (18311, 'Joe Roth', 'Producer'), (1588, 'Nancy Juvonen', 'Producer'), (1456380, 'Kathleen Mackie', 'Casting'), (10127, 'Jon Voight', 'actor'), (574003, 'Denise Nolan Cascino', 'Producer'), (9625, 'Linda Fiorentino', 'actor'), (24308, 'Brian Goldner', 'Producer'), (5046, 'Ronald Shusett', 'Producer'), (8275, 'Katterli Frauenfelder', 'Producer'), (19034, 'Evangeline Lilly', 'actor'), (7724, 'Frances Doel', 'Producer'), (74299, 'Pixote Hunt', 'Director'), (5382, 'Stacey Sher', 'Producer'), (1372, 'Karl Urban', 'actor'), (35666, 'Christina Steinberg', 'Producer'), (7399, 'Ben Stiller', 'actor'), (239996, 'Benjamin Walker', 'actor'), (66185, 'Matthias Deyle', 'Producer'), (74298, 'Francis Glebas', 'Director'), (16838, 'Steven Paul', 'Producer'), (1231, 'Julianne Moore', 'actor'), (1112036, 'Tim Lewis', 'Producer'), (33183, 'David Bowers', 'Director'), (16514, 'Robert Chartoff', 'Producer'), (65614, 'David Barron', 'Producer'), (4492, 'Philip Baker Hall', 'actor'), (1339, 'Zhang Ziyi', 'actor'), (1393177, 'Noah Schnapp', 'actor'), (155, 'Lucas Black', 'actor'), (561061, 'Neil Nightingale', 'Director'), (488, 'Steven Spielberg', 'Producer'), (66442, 'Tamsin Egerton', 'actor'), (11222, 'Mark Radcliffe', 'Producer'), (5081, 'Emily Blunt', 'actor'), (71070, 'Amanda Seyfried', 'actor'), (59949, 'Michael Peyser', 'Producer'), (322424, 'Grant Bradley', 'Producer'), (11696, 'Patrick Wachsberger', 'Producer'), (23679, 'Billy West', 'actor'), (20480, 'Taylor Momsen', 'actor'), (2400, 'Ron Surma', 'Casting'), (1815231, 'Christine Globke Saric', 'Casting'), (18277, 'Sandra Bullock', 'actor'), (1981, 'Alfre Woodard', 'actor'), (2997, 'Scott Rudin', 'Producer'), (45848, 'Christian Kaplan', 'Casting'), (2283, 'Stanley Tucci', 'actor'), (25616, 'Edgar Ramírez', 'actor'), (44114, 'Simon J. Smith', 'Director'), (15344, 'J.J. Abrams', 'Producer'), (6193, 'Leonardo DiCaprio', 'actor'), (8891, 'John Travolta', 'actor'), (112561, 'Lily Collins', 'actor'), (6410, 'Francine Maisler', 'Casting'), (143059, 'Patrick Hughes', 'Director'), (4182, 'David J. Wally', 'Producer'), (17828, 'Michael Barnathan', 'Producer'), (19501, 'Galen Walker', 'Producer'), (42906, 'Barry Josephson', 'Producer'), (77357, 'Rupert Wyatt', 'Director'), (51557, 'Marcia Ross', 'Casting'), (10990, 'Emma Watson', 'actor'), (90633, 'Gal Gadot', 'actor'), (72752, 'Jim Morris', 'Producer'), (7, 'Andrew Stanton', 'Director'), (60678, 'William Joyce', 'Producer'), (112690, 'Dan Lin', 'Producer'), (65731, 'Sam Worthington', 'actor'), (9339, 'Lilly Wachowski', 'Director'), (221581, 'Rebel Wilson', 'actor'), (1155664, 'Kate Cohen', 'Producer'), (6876, 'Michelle Lewitt', 'Casting'), (27105, 'Ed Helms', 'actor'), (10994, 'Tom DeSanto', 'Producer'), (986291, 'Marisa Polvino', 'Producer'), (1487555, \"Raweeporn 'Non' Srimonju\", 'Casting'), (495, 'Debra Zane', 'Casting'), (8602, 'Alice Braga', 'actor'), (1014789, 'Judy Lee', 'Casting'), (1328731, 'Rebecca Roper', 'Casting'), (9640, 'Haley Joel Osment', 'actor'), (44113, 'Steve Hickner', 'Director'), (60504, 'Mark Fincannon', 'Casting'), (5469, 'Ralph Fiennes', 'actor'), (4854, 'David Minkowski', 'Producer'), (92342, 'Michele Panelli-Venetis', 'Producer'), (107446, 'Phil Lord', 'Director'), (4183, 'Celia D. Costas', 'Producer'), (1392108, 'Cate Praggastis', 'Casting'), (15326, 'Gregory Apps', 'Casting'), (9, 'Graham Walters', 'Producer'), (22077, 'Carla Fry', 'Producer'), (769, 'Martin Brest', 'Director'), (19271, 'Anthony Russo', 'Director'), (598, 'Mike Fenton', 'Casting'), (61483, 'Tony Winley', 'Producer'), (1993, 'Lloyd Levin', 'Producer'), (4491, 'Jennifer Aniston', 'actor'), (83586, 'Ken Jeong', 'actor'), (53807, 'Armie Hammer', 'actor'), (10907, 'Stéphane Foenkinos', 'Casting'), (51612, 'Todd Black', 'Producer'), (23420, 'Bill Carraro', 'Producer'), (9814, 'Diana Rathbun', 'Producer'), (16935, 'Geena Davis', 'actor'), (1302779, 'Bryan Schulz', 'Producer'), (368, 'Reese Witherspoon', 'Producer'), (36108, 'Nicole Schmied', 'Casting'), (81850, 'Duncan Jones', 'Director'), (1336, 'Jet Li', 'actor'), (13301, 'Quincy Jones', 'actor'), (51329, 'Bradley Cooper', 'actor'), (511, 'Larry J. Franco', 'Producer'), (1102080, 'Aaron Boyd', 'Producer'), (80175, 'Jessica Elbaum', 'Producer'), (1733, 'Nick Nolte', 'actor'), (500, 'Tom Cruise', 'actor'), (125025, 'Joey King', 'actor'), (21007, 'Jonah Hill', 'actor'), (75575, 'Genevieve Hofmeyr', 'Producer'), (4499, 'Tom Shadyac', 'Director'), (8944, 'Jamie Lee Curtis', 'actor'), (3136, 'Salma Hayek', 'actor'), (1100, 'Arnold Schwarzenegger', 'Producer'), (13726, 'Ned Beatty', 'actor'), (56911, 'Les Mayfield', 'Director'), (4483, 'Dustin Hoffman', 'actor'), (17633, 'Rob Marshall', 'Director'), (12050, 'Anne Kopelson', 'Producer'), (15277, 'Jon Favreau', 'Producer'), (5724, 'Denis Leary', 'actor'), (16377, 'Jerry Seinfeld', 'Producer'), (5576, 'Val Kilmer', 'actor'), (769, 'Martin Brest', 'Producer'), (2133, 'Dina Meyer', 'actor'), (1607513, 'Brigham Taylor', 'Producer'), (56323, 'Tina Fey', 'actor'), (2532, 'Cathy Sandrich', 'Casting'), (9642, 'Jude Law', 'actor'), (1155665, 'Annie Marter', 'Producer'), (16294, 'Jonathan Demme', 'Director'), (6886, 'Christina Ricci', 'actor'), (10696, 'Famke Janssen', 'actor'), (6941, 'Cameron Diaz', 'actor'), (64449, 'Holly Dorff', 'Casting'), (287, 'Brad Pitt', 'actor'), (1631400, 'Christopher Taylor', 'Producer'), (3092, 'Diane Keaton', 'actor'), (9626, 'Rip Torn', 'actor'), (9205, 'Denise Richards', 'actor'), (116805, 'Paul Feig', 'Director'), (2209, 'Jan de Bont', 'Director'), (1240487, 'Kate McKinnon', 'actor'), (69678, 'Michael G. Wilson', 'Producer'), (32895, 'Kevin James', 'actor'), (65531, 'Eric Goldberg', 'Director'), (15346, 'Roberto Orci', 'Producer'), (13240, 'Mark Wahlberg', 'actor'), (9181, 'Edward Zwick', 'Director'), (70041, 'Cecil Kramer', 'Producer'), (4690, 'Christopher Walken', 'actor'), (58593, 'Kou Shibasaki', 'actor'), (52870, 'Tim Johnson', 'Director'), (1811, 'Randy Quaid', 'actor'), (23424, 'Lucy Bevan', 'Casting'), (67994, 'Julie Ansell', 'Producer'), (525, 'Christopher Nolan', 'Producer'), (4885, 'Emmanuelle Béart', 'actor'), (3234, 'Joan Cusack', 'actor'), (54738, 'Jack Huston', 'actor'), (776, 'Eddie Murphy', 'Producer'), (59026, 'Peyton Reed', 'Director'), (11614, 'M. Night Shyamalan', 'Director'), (62758, 'Todd Lieberman', 'Producer'), (15336, 'Dougray Scott', 'actor'), (12073, 'Mike Myers', 'actor'), (893, 'Tony Scott', 'Producer'), (39387, 'Sean Bailey', 'Producer'), (41329, 'Keith Redmon', 'Producer'), (36602, 'Peter Berg', 'Producer'), (12507, 'Raffaella De Laurentiis', 'Producer'), (17832, 'Carla Gugino', 'actor'), (3305, 'Jane Rosenthal', 'Producer'), (8784, 'Daniel Craig', 'actor'), (938, 'Djimon Hounsou', 'actor'), (13064, 'Nina Henninger', 'Casting'), (6870, 'Duncan Henderson', 'Producer'), (10768, 'Rachel Ticotin', 'actor'), (10723, 'Mike Newell', 'Director'), (16938, 'Renny Harlin', 'Director'), (2053, 'Bill Paxton', 'actor'), (32532, 'Brad Lewis', 'Producer'), (116805, 'Paul Feig', 'Producer'), (51385, 'Erica Huggins', 'Producer'), (3713, 'Frances Fisher', 'actor'), (25729, 'Nancy Bishop', 'Casting'), (7624, 'Stan Lee', 'Producer'), (20674, 'Thomas Langmann', 'Producer'), (887, 'Owen Wilson', 'actor'), (521, 'Michael J. Fox', 'actor'), (116691, 'Marcia DeBonis', 'Casting'), (7467, 'David Fincher', 'Director'), (5543, 'Douglas Gresham', 'Producer'), (54843, 'Andrew Form', 'Producer'), (7904, 'Billy Crystal', 'actor'), (56053, 'Joseph Singer', 'Producer'), (5049, 'John Hurt', 'actor'), (208113, 'Sarah Smith', 'Director'), (5669, 'Douglas Aibel', 'Casting'), (938107, 'Christi Dembrowski', 'Producer'), (53680, 'Elaine Grainger', 'Casting'), (1711, 'Mackenzie Crook', 'actor'), (1772, 'Anna Faris', 'actor'), (8789, 'Mathieu Amalric', 'actor'), (970529, 'Denise Ream', 'Producer'), (22059, 'Emily Schweber', 'Casting'), (21088, 'Alan Tudyk', 'actor'), (9545, 'Anne McCarthy', 'Casting'), (282, 'Charles Roven', 'Producer'), (5530, 'James McAvoy', 'actor'), (6046, 'Roland Emmerich', 'Director'), (21374, 'Allison Cowitt', 'Casting'), (44735, 'Jesse Eisenberg', 'actor'), (65827, 'Keith David', 'actor'), (61091, 'Jon Jashni', 'Producer'), (1922, 'Catherine Zeta-Jones', 'actor'), (5064, 'Meryl Streep', 'actor'), (13927, 'Kurt Wimmer', 'Producer'), (41087, 'Leslie Mann', 'actor'), (239571, 'Carl Rinsch', 'Director'), (328, 'Brittany Murphy', 'actor'), (75826, 'Brandon Birtell', 'Producer'), (9342, 'Shauna Wolifson', 'Casting'), (61860, 'Marianne Stanicheva', 'Casting'), (5292, 'Denzel Washington', 'actor'), (49670, 'Zsolt Csutak', 'Casting'), (3061, 'Ewan McGregor', 'actor'), (322, 'Steve Golin', 'Producer'), (18352, 'Patrick Dempsey', 'actor'), (7404, 'Sarah Silverman', 'actor'), (94011, 'Bill Melendez', 'actor'), (28977, 'Bryan Burk', 'Producer'), (52905, 'Mike Leeder', 'Casting'), (16938, 'Renny Harlin', 'Producer'), (59445, 'Donna DeSeta', 'Casting'), (8702, 'Jason Hoffs', 'Producer'), (2043, 'John Davis', 'Producer'), (6162, 'Paul Bettany', 'actor'), (1071, 'Tom Tykwer', 'Producer'), (11813, 'David Foster', 'Producer'), (1470041, 'Tina Sinatra', 'Producer'), (77996, 'Asa Butterfield', 'actor'), (54250, 'Kwame Parker', 'Producer'), (21693, 'Motonori Sakakibara', 'Director'), (14912, 'Diane Kerbel', 'Casting'), (93491, 'Will Poulter', 'actor'), (37625, 'Andrew Garfield', 'actor'), (15217, 'Zack Snyder', 'Director'), (10569, 'Karen Rosenfelt', 'Producer'), (23421, 'Deborah Forte', 'Producer'), (109513, 'Alexandra Daddario', 'actor'), (7775, 'Stephen Sommers', 'Director'), (6867, 'Chris Briggs', 'Producer'), (8210, 'Wes Bentley', 'actor'), (11698, 'Varina Bleil', 'Producer'), (40481, 'Luis Guzmán', 'actor'), (865, 'Michael Bay', 'Director'), (70238, 'Chris Williams', 'Director'), (7626, 'Avi Arad', 'Producer'), (20629, 'George Miller', 'Director'), (2448, 'Pat Sandston', 'Producer'), (4937, 'Vince Vaughn', 'actor'), (1117747, 'Mitchell Bell', 'Producer'), (6046, 'Roland Emmerich', 'Producer'), (60282, 'Sean Cossey', 'Casting'), (1298, 'Brad Grey', 'Producer'), (38657, 'Jay Sanders', 'Producer'), (1994, 'Robert F. Colesberry', 'Producer'), (945998, 'Topher Dow', 'Producer'), (55710, 'Adam McKay', 'Director'), (10828, 'Guillermo del Toro', 'Director'), (1230, 'John Goodman', 'actor'), (64191, 'Lawrence Guterman', 'Director'), (7906, 'Jennifer Tilly', 'actor'), (880, 'Ben Affleck', 'actor'), (10912, 'Eva Green', 'actor'), (7930, 'Jan Pinkava', 'Director'), (390, 'Irene Lamb', 'Casting'), (1461, 'George Clooney', 'actor'), (5575, 'Akiva Goldsman', 'Producer'), (2210, 'Bonnie Curtis', 'Producer'), (3288, 'Chris Weitz', 'Director'), (11181, 'Kenneth Branagh', 'Director'), (6997, 'Lucie Robitaille', 'Casting'), (59315, 'Olivia Wilde', 'actor'), (32593, 'Steven Brill', 'Director'), (4587, 'Halle Berry', 'actor'), (119178, 'Béatrice Kruger', 'Casting'), (132876, 'Brad Peyton', 'Director'), (4581, 'Steve Coogan', 'actor'), (3085, 'James Caan', 'actor'), (934, 'Russell Crowe', 'Producer'), (17604, 'Jeremy Renner', 'actor'), (57652, 'Louis A. Stroller', 'Producer'), (21879, 'Simon Wells', 'Director'), (15217, 'Zack Snyder', 'Producer'), (4756, 'Matthew Broderick', 'actor'), (66191, 'Barry Cook', 'Director'), (6159, 'Ron Howard', 'Producer'), (1006864, 'Ni Ni', 'actor'), (865, 'Michael Bay', 'Producer'), (71236, 'Tracie Graham-Rice', 'Producer'), (1345249, 'Pouya Shahbazian', 'Producer'), (20286, 'Toby Kebbell', 'actor'), (578, 'Ridley Scott', 'Director'), (2440, 'Bill Nighy', 'actor'), (9828, 'Garrett Hedlund', 'actor'), (15577, 'Emily Barclay', 'actor'), (3986, 'Mario Kassar', 'Producer'), (1, 'George Lucas', 'Producer'), (1152, 'Oliver Stone', 'Producer'), (5713, 'Chris Wedge', 'Director'), (7447, 'Alec Baldwin', 'actor'), (12111, 'Justin Timberlake', 'actor'), (7780, 'James Jacks', 'Producer'), (55710, 'Adam McKay', 'Producer'), (16475, 'Burt Reynolds', 'actor'), (7517, 'Kate Bosworth', 'actor'), (15810, 'Ron Clements', 'Producer'), (57132, 'Daniel Goldberg', 'Producer'), (4586, 'Pitof', 'Director'), (938108, 'David Kennedy', 'Producer'), (62048, 'Kirk Wise', 'Director'), (18918, 'Dwayne Johnson', 'actor'), (6368, 'Embeth Davidtz', 'actor'), (8753, 'Shaila Rubin', 'Casting'), (53336, 'Brandon T. Jackson', 'actor'), (75140, 'Marianne Jade', 'Casting'), (58225, 'Zach Galifianakis', 'Producer'), (33485, 'Ron Underwood', 'Director'), (3506, 'Carolynne Cunningham', 'Producer'), (94075, 'David Soren', 'Director'), (2232, 'Michael Keaton', 'actor'), (1095403, 'Yôko Narahashi', 'Casting'), (13920, 'Mimi Rogers', 'Producer'), (24893, 'Franck Dubosc', 'actor'), (130640, 'Hailee Steinfeld', 'actor'), (46088, 'Mark Canton', 'Producer'), (4017, 'Robert Kulzer', 'Producer'), (9575, 'Jada Pinkett Smith', 'actor'), (51976, 'D.J. Cotrona', 'actor'), (52160, 'John Goldwyn', 'Producer'), (1302, 'Susie Figgis', 'Casting'), (56658, 'Daniel Studi', 'actor'), (7725, 'Stacy Lumbrezer', 'Producer'), (85, 'Johnny Depp', 'actor'), (512, 'Laurie Parker', 'Producer'), (10781, 'Michael Apted', 'Director'), (37332, 'David McCullough', 'actor'), (4611, 'Mace Neufeld', 'Producer'), (707, 'Dan Aykroyd', 'actor'), (227, 'William Hurt', 'actor'), (61186, 'Nicola Peltz', 'actor'), (60074, 'Jeff Garlin', 'actor'), (21639, 'Nancy Green-Keyes', 'Casting'), (11695, 'Lucas Foster', 'Producer'), (9340, 'Lana Wachowski', 'Director'), (546, 'Jeanne McCarthy', 'Casting'), (448, 'Hilary Swank', 'actor'), (65598, 'Tony Jay', 'actor'), (16145, 'Youki Kudoh', 'actor'), (58189, 'Justin Lin', 'Director'), (8167, 'Paul Walker', 'actor'), (21635, 'Jonathan Glickman', 'Producer'), (2219, 'Tobey Maguire', 'actor'), (12786, 'Simon West', 'Director'), (47915, 'Darren Star', 'Producer'), (71237, 'Alison R. Rosenzweig', 'Producer'), (529, 'Guy Pearce', 'actor'), (46593, 'Emile Hirsch', 'actor'), (10968, 'David Heyman', 'Producer'), (212, 'David Cross', 'actor'), (7475, 'Ceán Chaffin', 'Producer'), (16158, 'Susan Arnold', 'Producer'), (12288, 'Robert Evans', 'Producer'), (23659, 'Will Ferrell', 'actor'), (9030, 'Thandie Newton', 'actor'), (4504, 'Roger Birnbaum', 'Producer'), (16337, 'Juliette Ménager', 'Casting'), (185438, 'Genndy Tartakovsky', 'Director'), (22302, 'Stuart Cornfeld', 'Producer'), (3276, 'Roger Mussenden', 'Casting'), (17207, 'Les Weldon', 'Producer'), (10905, 'Charlie Woebcken', 'Producer'), (14999, 'George A. Romero', 'Director'), (13426, 'Peter Segal', 'Director'), (5690, 'James Algar', 'Director'), (87742, 'Marc Webb', 'Director'), (81142, 'Derek Anderson', 'Producer'), (869, 'Gale Anne Hurd', 'Producer'), (376, 'Arnon Milchan', 'Producer'), (16431, 'Sam Elliott', 'actor'), (22498, 'Michael Schaefer', 'Producer'), (2445, 'Eric McLeod', 'Producer'), (17046, 'Gary Winick', 'Director'), (490, 'Colin Wilson', 'Producer'), (59426, 'Jennifer Rudnicke', 'Casting'), (8930, 'John Cleese', 'actor'), (76850, 'Simone Kessell', 'actor'), (1325573, 'Judith Bouley', 'Casting'), (39, 'Sam Mendes', 'Director'), (9273, 'Amy Adams', 'actor'), (94185, 'Shailene Woodley', 'actor'), (9340, 'Lana Wachowski', 'Producer'), (12098, 'Chris Miller', 'Director'), (58189, 'Justin Lin', 'Producer'), (19898, 'Vladimir Kulich', 'actor'), (69597, 'Drew Barrymore', 'Producer'), (2888, 'Will Smith', 'Producer'), (1084061, 'Tsuyoshi Sugino', 'Casting'), (1115007, 'Paul Watters', 'Producer'), (18248, 'Mary-Louise Parker', 'actor'), (11694, 'Doug Liman', 'Director'), (5328, 'Kerry Barden', 'Casting'), (7901, 'Katherine Sarafian', 'Producer'), (512991, 'Richard Madden', 'actor'), (9777, 'Cuba Gooding Jr.', 'actor'), (73457, 'Chris Pratt', 'actor'), (14929, 'Edgar J. Scherick', 'Producer'), (227454, 'Alicia Vikander', 'actor'), (547, 'Victoria Thomas', 'Casting'), (8289, 'Billy Crudup', 'actor'), (3293, 'Rachel Weisz', 'actor'), (9032, 'Bryan Singer', 'Producer'), (561, 'John Papsidera', 'Casting'), (5718, 'John C. Donkin', 'Producer'), (53299, 'Howard Baldwin', 'Producer'), (3806, 'Marion Dougherty', 'Casting'), (42264, 'Jacqueline M. Lopez', 'Producer'), (56660, 'Lorna Cook', 'Director'), (520, 'Sarah Jessica Parker', 'Producer'), (1892, 'Matt Damon', 'actor'), (20739, 'Adam Shankman', 'Director'), (83002, 'Jessica Chastain', 'actor'), (1532, 'Bill Murray', 'actor'), (20295, 'Moritz Borman', 'Producer'), (42994, 'David Dobkin', 'Producer'), (39, 'Sam Mendes', 'Producer'), (13015, 'Phillip Noyce', 'Director'), (74036, 'Tom Arnold', 'actor'), (1951, 'Elisabeth Shue', 'actor'), (52576, 'José Padilha', 'Director'), (1518, \"Frances O'Connor\", 'actor'), (3227, 'Steve Pink', 'Producer'), (7681, 'Charles Gordon', 'Producer'), (40437, 'Stephen J. Roth', 'Producer'), (1046, 'Juliet Taylor', 'Casting'), (1128253, 'Marc Ashton', 'Producer'), (5572, 'Joel Schumacher', 'Director'), (13333, 'Vanessa Redgrave', 'actor'), (1283, 'Helena Bonham Carter', 'actor'), (7784, 'Bob Ducsay', 'Producer'), (1393179, 'Venus Schultheis', 'actor'), (56967, 'Andrew G. Vajna', 'Producer'), (10118, 'Kenny Bates', 'Producer'), (15033, 'Justin Long', 'actor'), (74574, 'Caleeb Pinkett', 'Producer'), (16927, 'Gérard Depardieu', 'actor'), (38024, 'Cynthia Nixon', 'actor'), (78029, 'Martin Lawrence', 'actor'), (3686, 'Johanna Ray', 'Casting'), (6413, 'Danny Huston', 'actor'), (5284, 'Kim Roth', 'Producer'), (6807, 'Sam Rockwell', 'actor'), (52609, 'Breck Eisner', 'Director'), (11076, 'David Hyde Pierce', 'actor'), (7722, 'Edward Neumeier', 'Producer'), (36425, 'McG', 'Director'), (8313, 'Jeremy Zimmermann', 'Casting'), (1102139, 'Jason D. McGatlin', 'Producer'), (56146, 'Gaëtan Brizzi', 'Director'), (16730, 'Darrell James Roodt', 'Producer'), (516, 'Annette Bening', 'actor'), (1118, 'Rade Serbedzija', 'actor'), (18878, 'Rob Cohen', 'Director'), (1114890, 'Anna Culp', 'Producer'), (16729, 'Graham King', 'Producer'), (2444, 'Mike Stenson', 'Producer'), (19655, \"James D'Arcy\", 'actor'), (23430, 'Timur Bekmambetov', 'Director'), (234352, 'Margot Robbie', 'actor'), (1334498, 'Heather Carey', 'Casting'), (126, 'Fran Walsh', 'Producer'), (21044, 'Lynn Collins', 'actor'), (53300, 'Karen Elise Baldwin', 'Producer'), (66580, 'Scott Adsit', 'actor'), (27578, 'Ellen Page', 'actor'), (1118709, 'Lydia Bottegoni', 'Producer'), (42357, 'William Teitler', 'Producer'), (12090, 'Leslee Feldman', 'Casting'), (14392, 'Kathryn Bigelow', 'Producer'), (20515, 'Jib Polhemus', 'Producer'), (114408, 'Mary Parent', 'Producer'), (62957, 'Sarah Crowe', 'Casting'), (1254, 'Art Linson', 'Producer'), (24045, 'Joseph Gordon-Levitt', 'actor'), (10872, 'Patton Oswalt', 'actor'), (21085, 'Alex Proyas', 'Director'), (36804, 'Peter Chelsom', 'Director'), (530, 'Carrie-Anne Moss', 'actor'), (1151, 'Martin Bregman', 'Producer'), (12824, 'Don Hahn', 'Producer'), (3965, 'Deborah Aquila', 'Casting'), (2299, 'Josh Hartnett', 'actor'), (60010, 'Gabriel Grunfeld', 'Producer'), (42908, 'Sunil Perkash', 'Producer'), (16731, 'Paula Weinstein', 'Producer'), (11814, 'Todd Garner', 'Producer'), (6194, 'Claire Danes', 'actor'), (607, 'Zhang Yimou', 'Director'), (211962, 'Geoff Johns', 'Producer'), (142389, 'Charlie Rowe', 'actor'), (51909, 'Mark Swift', 'Producer'), (13, 'Albert Brooks', 'actor'), (62637, 'Heather Parry', 'Producer'), (4724, 'Kevin Bacon', 'actor'), (82191, 'Sharlto Copley', 'actor'), (949, 'Louis DiGiaimo', 'Casting'), (10952, 'Lorenzo di Bonaventura', 'Producer'), (2157, 'Robin Williams', 'actor'), (8534, 'Kathy Bates', 'actor'), (2242, 'Ellen Lewis', 'Casting'), (679, 'Franka Potente', 'actor'), (30315, 'Richard Armitage', 'actor'), (11091, 'Brett Ratner', 'Director'), (52845, 'Karey Kirkpatrick', 'Director'), (73772, 'Barry Levine', 'Producer'), (11006, 'James Marsden', 'actor'), (4588, 'Edward McDonnell', 'Producer'), (1425616, 'Amy Pascal', 'Producer'), (11343, 'David Yates', 'Director'), (64830, 'Andrew Gunn', 'Producer'), (92404, 'Joel Kinnaman', 'actor'), (335, 'Michael Shannon', 'actor'), (19282, 'Scott Stuber', 'Producer'), (1056758, 'Nancy Bernstein', 'Producer'), (584598, 'Hutch Parker', 'Producer'), (2690, 'Peter Weir', 'Director'), (1027550, 'Joey McFarland', 'Producer'), (3191, 'Risa Bramon Garcia', 'Casting'), (72466, 'Colin Farrell', 'actor'), (78914, 'Noam Murro', 'Director'), (234479, 'Dakota Goyo', 'actor'), (17329, 'Neil Burger', 'Director'), (11662, 'Jason Lee', 'actor'), (20540, 'Randi Hiller', 'Casting'), (17288, 'Michael Fassbender', 'actor'), (1108466, 'Sasha Robertson', 'Casting'), (1771, 'Giovanni Ribisi', 'actor'), (1155666, 'Regency Boies', 'Producer'), (120724, 'Jaden Smith', 'actor'), (2524, 'Tom Hardy', 'actor'), (8406, 'John Calley', 'Producer'), (12989, 'Andrew Davis', 'Director'), (4687, 'Patricia Arquette', 'actor'), (20818, 'Allen Covert', 'Producer'), (4486, \"Mark O'Keefe\", 'Producer'), (1614, 'Ang Lee', 'Director'), (4431, 'Jessica Lange', 'actor'), (75476, 'Tabrez Noorani', 'Producer'), (1888, 'Jerry Weintraub', 'Producer'), (65855, 'Ralph Zondag', 'Director'), (751, 'Valorie Massalas', 'Casting'), (1191105, 'Dean Zanuck', 'Producer'), (25014, 'Abra Edelman', 'Casting'), (550, 'Jennifer Todd', 'Producer'), (765144, 'Alyssa Weisberg', 'Casting'), (1325, 'John Hubbard', 'Casting'), (9137, 'Renée Zellweger', 'actor'), (935, 'Connie Nielsen', 'actor'), (37917, 'Kristen Stewart', 'actor'), (1289014, 'Ed Ulbrich', 'Producer'), (9622, 'Eric Brevig', 'Director'), (2324, 'Heidi Levitt', 'Casting'), (19862, 'Lucy Fisher', 'Producer'), (5529, 'Anna Popplewell', 'actor'), (12079, 'Kelly Asbury', 'Director'), (36662, 'Carey Mulligan', 'actor'), (57599, 'Seann William Scott', 'actor'), (33192, 'Joel Edgerton', 'actor'), (5309, 'Judi Dench', 'actor'), (20294, 'Laeta Kalogridis', 'Producer'), (942904, 'Mark Burnett', 'Producer'), (4688, 'Michael Rapaport', 'actor'), (930784, 'Leigh Pickford', 'Casting'), (61416, 'Peter Del Vecho', 'Producer'), (18286, 'Nona Gaye', 'actor'), (6730, 'Sacha Baron Cohen', 'actor'), (25438, 'Ed Speleers', 'actor'), (166278, 'Andy Berman', 'Producer'), (10953, 'Gilbert Adler', 'Producer'), (4014, 'Paul W.S. Anderson', 'Director'), (1326, 'Liz Mullane', 'Casting'), (3036, 'John Cusack', 'actor'), (21697, 'Chris Lee', 'Producer'), (113987, 'Polly Johnsen', 'Producer'), (57370, 'Frank Coraci', 'Director'), (35510, 'Bill Badalato', 'Producer'), (58433, 'David Ellison', 'Producer'), (15002, 'Dean Parisot', 'Director'), (19769, 'David Ayer', 'Director'), (6871, 'Barbara Huber', 'Producer'), (76792, 'Freida Pinto', 'actor'), (434, 'Lisa Beach', 'Casting'), (74297, 'Hendel Butoy', 'Director'), (38025, 'Kristin Davis', 'actor'), (5524, 'Andrew Adamson', 'Director'), (1813, 'Anne Hathaway', 'actor'), (96066, 'Liam Hemsworth', 'actor'), (192, 'Morgan Freeman', 'actor'), (10943, 'Francis Lawrence', 'Director'), (6431, 'Darren Aronofsky', 'Producer'), (3183, 'Don Murphy', 'Producer'), (3894, 'Christian Bale', 'actor'), (35219, 'Corey Burton', 'actor'), (15811, 'John Musker', 'Director'), (514, 'Jack Nicholson', 'actor'), (670, 'Ben Burtt', 'actor'), (643, 'Gong Li', 'actor'), (1128252, 'Aimée Peyronnet', 'Producer'), (2226, 'Sydney Pollack', 'Director'), (109857, 'Thor Freudenthal', 'Director'), (2372, 'Ron Perlman', 'actor'), (59620, 'Gemma Arterton', 'actor'), (280, 'Terry Gilliam', 'Director'), (3192, 'Billy Hopkins', 'Casting'), (2206, 'Samantha Morton', 'actor'), (1016176, 'Amy Hubbard', 'Casting'), (5174, 'Barry Sonnenfeld', 'Producer'), (56737, 'Don Granger', 'Producer'), (66193, 'Chris Sanders', 'actor'), (204, 'Kate Winslet', 'actor'), (937231, 'Bennett Schneir', 'Producer'), (24264, 'Craig Ferguson', 'actor'), (6866, 'Todd Arnow', 'Producer'), (65, 'Ian Holm', 'actor'), (4201, 'Wayne Knight', 'actor'), (1122003, 'Jennifer Page', 'Casting'), (71729, 'Steve Martino', 'Director'), (17271, 'Brandon Routh', 'actor'), (2882, 'Diane Lane', 'actor'), (1281, 'Freddie Highmore', 'actor'), (11148, 'Joan Allen', 'actor'), (66, 'Chris Tucker', 'actor'), (1102081, 'Kirstin Winkler', 'Producer'), (17289, 'Rodrigo Santoro', 'actor'), (6737, 'Jay Roach', 'Producer'), (5162, 'Mark Johnson', 'Producer'), (5524, 'Andrew Adamson', 'Producer'), (515, 'Glenn Close', 'actor'), (31384, 'Jordi Mollà', 'actor'), (1957, 'Sophie Marceau', 'actor'), (1093, 'Lawrence Gordon', 'Producer'), (933333, 'John Buchan', 'Casting'), (12106, 'Aron Warner', 'Producer'), (42160, 'Ariel Winter', 'actor'), (88995, 'Adrianne Palicki', 'actor'), (15811, 'John Musker', 'Producer'), (1720, 'Ronna Kress', 'Casting'), (2226, 'Sydney Pollack', 'Producer'), (20810, 'Joely Richardson', 'actor'), (27763, 'Casper Van Dien', 'actor'), (11808, 'Cooper Layne', 'Producer'), (884, 'Steve Buscemi', 'actor'), (2360, 'Thomas Schühly', 'Producer'), (3289, 'Paul Weitz', 'Director'), (436, 'Sarah Katzman', 'Casting'), (10882, 'Rosamund Pike', 'actor'), (7723, 'Jon Davison', 'Producer'), (2162, 'Lynda Obst', 'Producer'), (15897, 'Larry the Cable Guy', 'actor'), (123, 'Barrie M. Osborne', 'Producer'), (1308069, 'Franklyn Warren', 'Casting'), (6968, 'Hugh Jackman', 'Producer'), (224181, 'Jai Courtney', 'actor'), (24309, 'Mark Vahradian', 'Producer'), (5916, 'Rosario Dawson', 'actor'), (114479, 'Tim Headington', 'Producer'), (14377, 'Juel Bestrop', 'Casting'), (16728, 'Gillian Gorfil', 'Producer'), (17825, 'Shawn Levy', 'Producer'), (14093, 'Jonathan D. Krane', 'Producer'), (112691, 'Peter Eskelsen', 'Producer'), (19242, 'Tony Gilroy', 'Director'), (449, 'Jay Baruchel', 'actor'), (4495, 'Steve Carell', 'actor'), (1155667, 'Scott Andrew Robertson', 'Producer'), (12261, 'Jason Patric', 'actor'), (7227, 'Hal Lieberman', 'Producer'), (2598, 'Sophie Okonedo', 'actor'), (6201, 'Baz Luhrmann', 'Director'), (7399, 'Ben Stiller', 'Director'), (9033, 'Christopher McQuarrie', 'Director'), (478, 'Jamie Bell', 'actor'), (33260, 'Freddie Prinze Jr.', 'actor'), (223, 'Alejandro González Iñárritu', 'Director'), (62857, 'Susan Taylor Brouse', 'Casting'), (25585, 'Brooke Breton', 'Producer'), (65535, 'Alice Evans', 'actor'), (110564, 'Maurice Sendak', 'Producer'), (95101, 'Charlie Day', 'actor'), (66739, 'Jonathan Liebesman', 'Director'), (225976, 'Dan Scanlon', 'Director'), (12882, 'Buzz Feitshans', 'Producer'), (19292, 'Adam Sandler', 'actor'), (17605, 'Idris Elba', 'actor'), (561061, 'Neil Nightingale', 'Producer'), (53304, 'Peter Lord', 'Producer'), (13079, 'Gavin Hood', 'Director'), (11405, 'David Permut', 'Producer'), (26205, 'James Bobin', 'Director'), (1450144, 'Iris Baumüller', 'Casting'), (36588, 'Joe Wright', 'Director'), (1097, 'Jackie Burch', 'Casting'), (228134, 'Rupert Sanders', 'Director'), (3388, 'James L. Brooks', 'Director'), (963497, 'Natalie Lyon', 'Casting'), (71600, 'Seth Gordon', 'Director'), (1057785, 'Camilla-Valentine Isola', 'Casting'), (133, 'Peter Sarsgaard', 'actor'), (7055, 'Sienna Guillory', 'actor'), (1016168, 'Lily James', 'actor'), (6885, 'Charlize Theron', 'actor'), (2238, 'Eric Fellner', 'Producer'), (2201, 'Max von Sydow', 'actor'), (1015921, 'Ethan Smith', 'Producer'), (54826, 'Traylor Howard', 'actor'), (50463, 'Malin Åkerman', 'actor'), (112, 'Cate Blanchett', 'actor'), (15563, 'Anika Noni Rose', 'actor'), (137198, 'Jamie Sparer Roberts', 'Casting'), (990400, 'Victoria Foyt', 'actor'), (11887, 'Brad Silberling', 'Director'), (30694, 'Ross Bagdasarian, Jr.', 'Producer'), (17871, 'John Hamburg', 'Producer'), (15812, 'Roger Allers', 'Director'), (18897, 'Jackie Chan', 'actor'), (72754, 'Elissa Knight', 'actor'), (20170, 'Linda Lowy', 'Casting'), (18324, 'Steve Zahn', 'actor'), (75804, 'Kevin De La Noy', 'Producer'), (46393, 'Roseanne Barr', 'actor'), (128, 'Philippa Boyens', 'Producer'), (1704, 'Gore Verbinski', 'Director'), (930, 'Branko Lustig', 'Producer'), (4023, 'Suzanne Smith', 'Casting'), (9033, 'Christopher McQuarrie', 'Producer'), (388, 'Jim Broadbent', 'actor'), (409, 'Cathy Konrad', 'Producer'), (41292, 'Keri Russell', 'actor'), (4142, 'Elisabeth Leustig', 'Casting'), (21200, 'Will Arnett', 'actor'), (776, 'Eddie Murphy', 'actor'), (9339, 'Lilly Wachowski', 'Producer'), (1327, 'Ian McKellen', 'actor'), (18023, 'Robert Carlyle', 'actor'), (10491, 'Paul Verhoeven', 'Director'), (108, 'Peter Jackson', 'Director'), (11268, 'Roberto Malerba', 'Producer'), (935634, 'Nina Jacobson', 'Producer'), (6955, 'Vincent Landay', 'Producer'), (61962, 'D. B. Sweeney', 'actor'), (52442, 'Olivia Thirlby', 'actor'), (21694, 'Jack Fletcher', 'Casting'), (2952, 'Avy Kaufman', 'Casting'), (3388, 'James L. Brooks', 'Producer'), (1893, 'Casey Affleck', 'actor'), (4952, 'Nancy Foy', 'Casting'), (51984, 'Mimi Leder', 'Director'), (20743, 'Gigi Pritzker', 'Producer'), (10959, 'Shia LaBeouf', 'actor'), (61820, 'William J. MacDonald', 'Producer'), (3489, 'Naomi Watts', 'actor'), (6193, 'Leonardo DiCaprio', 'Producer'), (17834, 'Jake Cherry', 'actor'), (2127, 'James Wan', 'Director'), (32597, 'Dylan McDermott', 'actor'), (1884, 'Steven Soderbergh', 'Director'), (82194, 'Neill Blomkamp', 'Director'), (3896, 'Liam Neeson', 'actor'), (1221, 'Dianne Crittenden', 'Casting'), (8328, 'John Milius', 'Director'), (69797, 'Dean DeBlois', 'Director'), (119665, 'Gregory Jacobs', 'Producer'), (73357, 'Eleanor Tomlinson', 'actor'), (16483, 'Sylvester Stallone', 'actor'), (59839, 'Harvey Weinstein', 'Producer'), (193, 'Gene Hackman', 'actor'), (22970, 'Peter Dinklage', 'actor'), (11505, 'John Hughes', 'Producer'), (970284, 'Zareh Nalbandian', 'Producer'), (27011, 'Vanessa Williams', 'actor'), (64, 'Gary Oldman', 'actor'), (4174, 'Claire Forlani', 'actor'), (32400, 'Jeremy Ritzer', 'Casting'), (42006, 'Ned Dowd', 'Producer'), (77288, 'Nico Soultanakis', 'Producer'), (931, 'Douglas Wick', 'Producer'), (201, 'Michel Gondry', 'Director'), (4499, 'Tom Shadyac', 'Producer'), (213, 'Gerry Robert Byrne', 'Producer'), (11782, 'Adrienne Barbeau', 'actor'), (7786, 'Ros Hubbard', 'Casting'), (957, 'Matthew Vaughn', 'Director'), (65524, 'Ioan Gruffudd', 'actor'), (62778, 'Mark Bennett', 'Casting'), (14409, 'David Schwimmer', 'actor'), (8977, 'Craig T. Nelson', 'actor'), (75538, 'Michelle Allen', 'Casting'), (2713, 'Linda Hamilton', 'actor'), (6048, 'Mark Gordon', 'Producer'), (7878, 'Darla K. Anderson', 'Producer'), (11267, 'Jessica Alan', 'Producer'), (3809, 'Francesca Neri', 'actor'), (55152, 'Campbell Scott', 'actor'), (12894, 'Bonnie Arnold', 'Producer'), (54693, 'Emma Stone', 'actor'), (27952, 'Volker Engel', 'Producer'), (1486960, 'Claire Simon', 'Casting'), (2424, 'Pierre-Jacques Bénichou', 'Casting'), (16294, 'Jonathan Demme', 'Producer'), (113674, 'Victoria Alonso', 'Producer'), (67803, 'Amanda Silver', 'Producer'), (6203, 'Catherine Martin', 'Producer'), (62064, 'Chris Pine', 'actor'), (142325, 'Simon Crane', 'Producer'), (37281, 'Nikki Barrett', 'Casting'), (3505, 'Jan Blenkin', 'Producer'), (60501, 'Craig Fincannon', 'Casting'), (2209, 'Jan de Bont', 'Producer'), (53, 'Peter Stormare', 'actor'), (1724, 'Roger Spottiswoode', 'Director'), (80927, 'Leland Palmer', 'actor'), (9181, 'Edward Zwick', 'Producer'), (40592, 'Jeffrey Chernov', 'Producer'), (556, 'Emma Thomas', 'Producer'), (86270, 'Joseph Kosinski', 'Director'), (454, 'Michael Peña', 'actor'), (52848, 'Isla Fisher', 'actor'), (957, 'Matthew Vaughn', 'Producer'), (61417, 'Randy Fullmer', 'Producer'), (9198, 'Vincent Ward', 'Director'), (9195, 'Hiroyuki Sanada', 'actor'), (59745, 'Jen Rudin', 'Casting'), (16486, 'Kevin King Templeton', 'Producer'), (18050, 'Elle Fanning', 'actor'), (175826, 'Mireille Enos', 'actor'), (1010787, 'Ean Tang', 'Casting'), (41091, 'Kristen Wiig', 'actor'), (2352, 'Jean-Jacques Annaud', 'Director'), (10431, 'Jennifer Jason Leigh', 'actor'), (518, 'Danny DeVito', 'actor'), (1327763, 'Alena Garetovskaya', 'Casting'), (4175, 'Jeffrey Tambor', 'actor'), (1033104, 'Scott David', 'Casting'), (8858, 'Ivan Reitman', 'Director'), (40832, 'Mike Richardson', 'Producer'), (266920, 'Peter Chernin', 'Producer'), (2039, 'Brendan Gleeson', 'actor'), (3416, 'Demi Moore', 'actor'), (23485, 'Marc Platt', 'Producer'), (11826, 'Selma Blair', 'actor'), (22815, 'John Thompson', 'Producer'), (33449, 'Essie Davis', 'actor'), (20207, 'Arnold Messer', 'Producer'), (934, 'Russell Crowe', 'actor'), (287, 'Brad Pitt', 'Producer'), (1631402, 'Johanna Ragwitz', 'Casting'), (14757, 'David Bloch', 'Casting'), (24, 'Robert Zemeckis', 'Director'), (13445, 'Tia Carrere', 'actor'), (964321, 'Linda McDonough', 'Producer'), (56671, 'Mireille Soria', 'Producer'), (165787, 'Rich Moore', 'Director'), (18865, 'Louis Leterrier', 'Director'), (46943, 'Kathleen Chopin', 'Casting'), (206, 'Jim Carrey', 'actor'), (67773, 'Steve Martin', 'actor'), (20206, 'Mike Medavoy', 'Producer'), (22078, 'Mark W. Koch', 'Producer'), (65630, 'Rob Letterman', 'Director'), (2624, 'Richard Pagano', 'Casting'), (34195, 'Jayma Mays', 'actor'), (44645, 'Brendan Donnison', 'Casting'), (2485, 'Patsy Pollock', 'Casting'), (10764, 'Arnold Kopelson', 'Producer'), (2042, 'Stephen Hopkins', 'Director'), (1003189, 'Pilar Savone', 'Producer'), (1284, 'Noah Taylor', 'actor'), (2462, 'Catherine McCormack', 'actor'), (60013, 'Leslie J. Converse', 'Producer'), (20643, 'Lorne Orleans', 'Producer'), (1160, 'Michelle Pfeiffer', 'actor'), (68573, 'Walt Becker', 'Director'), (61419, 'Matthew Jon Beck', 'Casting'), (6873, 'Kimberly Miller', 'Producer'), (39995, 'Michael Cera', 'actor'), (67702, 'Lina Todd', 'Casting'), (1073, 'Stefan Arndt', 'Producer'), (221611, 'Jonathan Groff', 'actor'), (3895, 'Michael Caine', 'actor'), (49826, 'John Baldecchi', 'Producer'), (79243, 'Deborah Snyder', 'Producer'), (37153, 'Zoë Kravitz', 'actor'), (66190, 'Tony Bancroft', 'Director'), (69899, 'Zachary Levi', 'actor'), (213001, 'Jenny Slate', 'actor'), (17244, 'Hayden Christensen', 'actor'), (5545, 'K.C. Hodenfield', 'Producer'), (673, 'Bernd Eichinger', 'Producer'), (986277, 'Corinne Clark', 'Casting'), (52693, 'John B. Carls', 'Producer'), (14911, 'Penny Marshall', 'Producer'), (18863, 'Eric Darnell', 'Director'), (229962, 'Mike Thurmeier', 'Director'), (8256, 'Anne Heche', 'actor'), (33194, 'Robin Gurland', 'Casting'), (16858, 'Lauren Graham', 'actor'), (3432, 'Rick Aviles', 'actor'), (1262481, 'Alessandro Carloni', 'Director'), (4406, 'Antoinette Boulat', 'Casting'), (3129, 'Tim Roth', 'actor'), (19689, 'Paul Schnee', 'Casting'), (56322, 'Amy Poehler', 'actor'), (2405, 'Audrey Tautou', 'actor'), (2042, 'Stephen Hopkins', 'Producer'), (16855, 'Mandy Moore', 'actor'), (12795, 'Nikolaj Coster-Waldau', 'actor'), (1290740, 'Wendy Washbrook', 'Casting'), (3950, 'Len Wiseman', 'Director'), (7775, 'Stephen Sommers', 'Producer'), (6972, 'Ian McShane', 'actor'), (1537404, 'Taichi Ueda', 'Producer'), (1329754, 'Kevin Kuffa', 'Casting'), (63784, 'Candice Elzinga', 'Casting'), (15345, 'Alex Kurtzman', 'Producer'), (20629, 'George Miller', 'Producer'), (40900, 'Mark Rylance', 'actor'), (108916, 'Rooney Mara', 'actor'), (18686, 'Holly Hunter', 'actor'), (11302, 'Edward S. Feldman', 'Producer'), (47285, 'Broderick Johnson', 'Producer'), (1445974, 'Eriko Miyagawa', 'Casting'), (5362, 'Heike Brandstatter', 'Casting'), (30714, 'Rick Yorn', 'Producer'), (955, 'Penélope Cruz', 'actor'), (45841, 'Joanna Colbert', 'Casting'), (77921, 'Hideaki Anno', 'Director'), (1814303, 'Steve Pegram', 'Producer'), (3037, 'Richard Dreyfuss', 'actor'), (6164, 'Josh Lucas', 'actor'), (10828, 'Guillermo del Toro', 'Producer'), (55499, 'Scott Derrickson', 'Director'), (27319, 'Christoph Waltz', 'actor'), (4507, 'Gary Barber', 'Producer'), (18864, 'Tom McGrath', 'actor'), (378, 'Jonathan Pryce', 'actor'), (27095, 'Ilona Herzberg', 'Producer'), (5168, 'Gabriel Byrne', 'actor'), (78311, 'Steve Valentine', 'actor'), (55999, 'Paul Ardaji', 'Producer'), (18976, 'Ashton Kutcher', 'actor'), (10859, 'Ryan Reynolds', 'actor'), (88967, 'Greg Berlanti', 'Producer'), (11181, 'Kenneth Branagh', 'Producer'), (53684, 'Robert Smigel', 'Producer'), (935717, 'Dylan Clark', 'Producer'), (41289, 'Lionel Wigram', 'Producer'), (56618, 'Brian Murray', 'actor'), (22706, 'James Gorman', 'Producer'), (51922, 'Carmen Cuba', 'Casting'), (967387, 'Jeremy Kleiner', 'Producer'), (4016, 'Jeremy Bolt', 'Producer'), (43141, 'Pete Travis', 'Director'), (8843, 'Mick Jackson', 'Director'), (131519, 'Rihanna', 'actor'), (16644, 'Dolph Lundgren', 'actor'), (1125156, 'John Swallow', 'Producer'), (69597, 'Drew Barrymore', 'actor'), (578, 'Ridley Scott', 'Producer'), (4937, 'Vince Vaughn', 'Producer'), (2888, 'Will Smith', 'actor'), (77271, 'Pink', 'actor'), (11404, 'Terence Chang', 'Producer'), (1055230, 'Raffey Cassidy', 'actor'), (956, 'Guy Ritchie', 'Director'), (8783, 'Eric Bana', 'actor'), (3392, 'Michael Douglas', 'actor'), (1429626, 'Miranda Davidson', 'Casting'), (1125157, 'Joshua Church', 'Producer'), (947478, 'Marc Weigert', 'Producer'), (4701, 'James W. Skotchdopole', 'Producer'), (23678, 'Michael Jordan', 'actor'), (2239, 'Anthony Minghella', 'Director'), (223609, 'Joni Levin', 'Producer'), (1198825, 'Randi Wells', 'Casting'), (11295, 'Fiona Weir', 'Casting'), (29018, 'Dana Goldberg', 'Producer'), (20508, 'Iain Glen', 'actor'), (24886, 'Frédéric Forestier', 'Director'), (6349, 'Alan J. Pakula', 'Director'), (520, 'Sarah Jessica Parker', 'actor'), (1269, 'Kevin Costner', 'actor'), (27219, 'Charles Evans Jr.', 'Producer'), (10120, 'Jennifer Klein', 'Producer'), (59627, 'Julie-Marie Parmentier', 'actor'), (58327, 'Jonathan Shestack', 'Producer'), (6044, 'Mindy Marin', 'Casting'), (11705, 'Michelle Monaghan', 'actor'), (7213, 'Jonathan Mostow', 'Director'), (71079, 'Michael Ewing', 'Producer'), (2229, 'Catherine Keener', 'actor'), (19278, 'Bill Hader', 'actor'), (1077406, 'Jeanette Klintberg', 'Casting'), (1034748, 'Tricia Wood', 'Casting'), (65043, 'Samuel Goldwyn Jr.', 'Producer'), (118, 'Geoffrey Rush', 'actor'), (1038, 'Jodie Foster', 'actor'), (47286, 'Andrew A. Kosove', 'Producer'), (1032536, 'Robert Stromberg', 'Director'), (20204, 'James Vanderbilt', 'Producer'), (136, 'Sam Mercer', 'Producer'), (121529, 'Léa Seydoux', 'actor'), (41896, 'Jay Stern', 'Producer'), (42360, 'Scot Boland', 'Casting'), (559, 'Wally Pfister', 'Director'), (15906, 'William Horberg', 'Producer'), (489, 'Kathleen Kennedy', 'Producer'), (1202, 'Steven Reuther', 'Producer'), (7726, 'Alan Marshall', 'Producer'), (12041, 'Julia Stiles', 'actor'), (31, 'Tom Hanks', 'actor'), (11401, 'John Woo', 'Director'), (12067, 'Jane Hartwell', 'Producer'), (84493, 'Mickie McGowan', 'Casting'), (53714, 'Rachel McAdams', 'actor'), (12962, 'Jon Turteltaub', 'Director'), (78198, 'Tyler Hoechlin', 'actor'), (9184, 'Scott Kroopf', 'Producer'), (5322, 'David Brown', 'Producer'), (1425420, 'Ruby Barnhill', 'actor'), (58421, 'Christopher Jenkins', 'Producer'), (1324, 'Victoria Burrows', 'Casting'), (11288, 'Robert Pattinson', 'actor'), (38023, 'Michael Patrick King', 'Director'), (11652, 'Lisa Stewart', 'Producer'), (7531, 'Joseph P. Reidy', 'Producer'), (48, 'Sean Bean', 'actor'), (73421, 'Joaquin Phoenix', 'actor'), (10965, 'Chris Columbus', 'Director'), (3718, 'David Valdes', 'Producer'), (58016, 'Anna Friel', 'actor'), (4485, 'Steve Koren', 'Producer'), (8654, 'Matthew Modine', 'actor'), (3805, 'Jon Peters', 'Producer'), (85, 'Johnny Depp', 'Producer'), (2227, 'Nicole Kidman', 'actor'), (37260, 'Abbie Cornish', 'actor'), (5719, 'Lori Forte', 'Producer'), (80676, 'Jordan Nagai', 'actor'), (137262, 'Steve Purcell', 'Director'), (47005, 'Alan Taylor', 'Director'), (80576, 'Max Records', 'actor'), (26713, 'Chuck Russell', 'Director'), (114017, 'Karl McMillan', 'Producer'), (18354, 'Bridget Moynahan', 'actor'), (54777, 'Jennifer L. Smith', 'Casting'), (1333, 'Andy Serkis', 'actor'), (18898, 'Rob Minkoff', 'Director'), (15774, 'Chris Buck', 'Director'), (54844, 'Bradley Fuller', 'Producer'), (1395152, 'Sarah Schechter', 'Producer'), (1331, 'Hugo Weaving', 'actor'), (114, 'Orlando Bloom', 'actor'), (205, 'Kirsten Dunst', 'actor'), (7881, 'Jill Culton', 'Director'), (543530, 'Dave Bautista', 'actor'), (1518756, 'P.J. Voeten', 'Producer'), (2169, 'Michael Jeter', 'actor'), (1121, 'Benicio del Toro', 'actor'), (66252, 'Bruno Campos', 'actor'), (18792, 'Delroy Lindo', 'actor'), (113675, 'Jeremy Latcham', 'Producer'), (2955, 'Chris Cooper', 'actor'), (1580, 'Daveigh Chase', 'actor'), (587816, 'Ajey Jhankar', 'Producer'), (1345610, 'Chase Paris', 'Casting'), (4446, 'Jon Kilik', 'Producer'), (107275, 'Orson Scott Card', 'Producer'), (21378, 'Paul Webster', 'Producer'), (23226, 'G. Mac Brown', 'Producer'), (12835, 'Vin Diesel', 'actor'), (1723, 'Walter Hill', 'Producer'), (963134, 'Raymond Ochoa', 'actor'), (1527482, 'Cornelius Uliano', 'Producer'), (66513, 'Jeffrey Harlacker', 'Producer'), (2037, 'Cillian Murphy', 'actor'), (114478, 'Carolyn Pickman', 'Casting'), (3810, 'Javier Bardem', 'actor'), (5587, 'Hank Azaria', 'actor'), (8676, 'Dean Devlin', 'Producer'), (501, 'Dakota Fanning', 'actor'), (25604, 'Paul Sandberg', 'Producer'), (5953, 'Spike Jonze', 'Director'), (76110, 'Stephen Amell', 'actor'), (17209, 'Avi Lerner', 'Casting'), (1229, 'Jeff Bridges', 'actor'), (13932, 'Patricia McCorkle', 'Casting'), (62861, 'Andy Samberg', 'actor'), (1484, 'Ellen Chenoweth', 'Casting'), (4173, 'Anthony Hopkins', 'actor'), (1117281, 'Josh Gummersall', 'Producer'), (1197278, 'Jamie Castro', 'Casting'), (7627, 'Laura Ziskin', 'Producer'), (58498, 'Dominic Sena', 'Director'), (20458, 'Dede Gardner', 'Producer'), (59803, 'Brenda Chapman', 'Director'), (2958, 'Diana Scarwid', 'actor'), (3275, 'Jane Jenkins', 'Casting'), (17419, 'Bryan Cranston', 'actor'), (25455, 'Gil Netter', 'Producer'), (54470, 'Lauren Ambrose', 'actor'), (1117749, 'Richard Whelan', 'Producer'), (19536, 'Josh Duhamel', 'actor'), (1164, 'F. Murray Abraham', 'actor'), (7187, 'Richard Donner', 'Director'), (1090, 'John McTiernan', 'Director'), (57742, 'John Stevenson', 'Director'), (4443, 'Christopher McDonald', 'actor'), (58873, 'Dan Fogler', 'actor'), (5490, 'David Rubin', 'Casting'), (510, 'Tim Burton', 'Director'), (1027545, 'Riza Aziz', 'Producer'), (1108835, 'Dixie Chassay', 'Casting'), (28239, 'David Twohy', 'Director'), (32278, 'Matt Reeves', 'Director'), (946051, 'Melissa Cobb', 'Producer'), (21696, 'Jun Aida', 'Producer'), (17144, 'David T. Friendly', 'Producer'), (56731, 'Jessica Alba', 'actor'), (1295761, 'Suzanne Buirgy', 'Producer'), (21085, 'Alex Proyas', 'Producer'), (59679, 'Michael Bronner', 'Producer'), (6856, 'Kurt Russell', 'actor'), (4783, 'Sam Neill', 'actor'), (752, 'Judy Taylor', 'Casting'), (37436, 'Alex Gartner', 'Producer'), (62, 'Bruce Willis', 'actor'), (3, 'Harrison Ford', 'actor'), (1034749, 'Lis Kern', 'Producer'), (142312, 'Jennifer Yuh Nelson', 'Director'), (66777, 'Bob Fosse', 'Director'), (2632, 'Chris Rock', 'actor'), (60950, 'David Spade', 'actor'), (1702379, 'Michael Lee Baron', 'Producer'), (638, 'Michael Mann', 'Director'), (1019, 'Mads Mikkelsen', 'actor'), (7908, 'Frank Oz', 'Director'), (9182, 'Marshall Herskovitz', 'Producer'), (2047, 'Danny Glover', 'actor'), (52865, 'Garry Shandling', 'actor'), (40256, 'D.J. Caruso', 'Director'), (1395340, 'Will Ward', 'Producer'), (286, 'Lloyd Phillips', 'Producer'), (11218, 'Alfonso Cuarón', 'Director'), (57130, 'Todd Phillips', 'Director'), (544666, 'Roxane Duran', 'actor'), (25600, 'Patrick Crowley', 'Producer'), (22123, 'Jordana Brewster', 'actor'), (41080, 'Allison Jones', 'Casting'), (20208, 'Brad Fischer', 'Producer'), (25137, 'Pippa Hall', 'Casting'), (4038, 'Susan Sarandon', 'actor'), (53394, 'Steve Bing', 'Producer'), (59175, 'Blake Lively', 'actor'), (151007, 'Peter Ramsey', 'Director'), (72129, 'Jennifer Lawrence', 'actor'), (1454884, 'Cedric Nicolas-Troyan', 'Director'), (21198, 'Peter Sohn', 'Director'), (79242, 'Wesley Coller', 'Producer'), (6507, 'Uma Da Cunha', 'Casting'), (1381649, 'Adam Rosenberg', 'Producer'), (6384, 'Keanu Reeves', 'actor'), (510, 'Tim Burton', 'Producer'), (15426, 'Laura Rosenthal', 'Casting'), (4810, 'Rosie Perez', 'actor'), (84215, 'Jackson Rathbone', 'actor'), (52845, 'Karey Kirkpatrick', 'Producer'), (11091, 'Brett Ratner', 'Producer'), (23964, 'Gary Ross', 'Director'), (10980, 'Daniel Radcliffe', 'actor'), (2282, 'Ben Kingsley', 'actor'), (54507, 'Jon M. Chu', 'Director'), (7879, 'John Lasseter', 'Director'), (1551773, 'Amal El-Farfachi', 'Casting'), (2690, 'Peter Weir', 'Producer'), (3967, 'Kate Beckinsale', 'actor'), (1117748, 'Stephen Broussard', 'Producer'), (8701, 'Laurie MacDonald', 'Producer'), (26457, 'Matthew Lillard', 'actor'), (15851, 'Amy Brenneman', 'actor'), (1156, 'Alixe Gordin', 'Casting'), (87722, 'Noomi Rapace', 'actor'), (2461, 'Mel Gibson', 'actor'), (819, 'Edward Norton', 'actor'), (70287, 'Will Finn', 'Director'), (52691, 'Anthony Stacchi', 'Director'), (130938, 'Sergei Bodrov', 'Director'), (28782, 'Monica Bellucci', 'actor'), (10697, 'Alan Cumming', 'actor'), (2231, 'Samuel L. Jackson', 'actor'), (7087, 'Brad Bird', 'Director'), (11447, 'Albert Hughes', 'Director'), (1109004, 'Yoshihiro Satô', 'Producer'), (117075, 'Henry Jaglom', 'Director'), (1440182, 'Max Brebant', 'actor'), (25598, 'Paul Greengrass', 'Director'), (21180, 'Justin Bartha', 'actor'), (20908, 'Jeffrey Silver', 'Producer'), (7481, 'Laray Mayfield', 'Casting'), (19274, 'Seth Rogen', 'actor'), (933160, 'Suraj Sharma', 'actor'), (11218, 'Alfonso Cuarón', 'Producer'), (972356, 'Luke Bracey', 'actor'), (40176, 'Art Carney', 'actor'), (21673, 'Ericson Core', 'Director'), (155267, 'Christopher Miller', 'Director'), (3223, 'Robert Downey Jr.', 'actor'), (1257754, 'Ellen Goldsmith-Vein', 'Producer'), (67802, 'Rick Jaffa', 'Producer'), (17209, 'Avi Lerner', 'Producer'), (6968, 'Hugh Jackman', 'actor'), (7060, 'Martin Freeman', 'actor'), (41326, 'David Kanter', 'Producer'), (1594, 'Michelle Morris', 'Casting'), (7232, 'Sarah Finn', 'Casting'), (7026, 'Rhys Ifans', 'actor'), (517, 'Pierce Brosnan', 'actor'), (125738, 'Daniel Espinosa', 'Director'), (120606, 'Gregory Goodman', 'Producer'), (284, 'Gary Levinsohn', 'Producer'), (16828, 'Chris Evans', 'actor'), (35654, 'Spencer Breslin', 'actor'), (502, 'Miranda Otto', 'actor'), (6188, 'Louisa Velis', 'Producer'), (7879, 'John Lasseter', 'Producer'), (126638, 'Mark Andrews', 'Director'), (2517, 'Donna Murphy', 'actor'), (58015, 'Ricardo Mestres', 'Producer'), (60900, 'Taylor Kitsch', 'actor'), (5133, 'Bo Welch', 'Director'), (17627, 'Lucile Hadzihalilovic', 'Director'), (4856, 'Matthew Stillman', 'Producer'), (1332509, 'Annette Borgmann', 'Casting'), (10297, 'Matthew McConaughey', 'actor'), (110, 'Viggo Mortensen', 'actor'), (4014, 'Paul W.S. Anderson', 'Producer'), (3417, 'Tony Goldwyn', 'actor'), (5374, 'Jim Parsons', 'actor'), (551, 'Suzanne Todd', 'Producer'), (886, 'William Fichtner', 'actor'), (2215, 'Denise Chamian', 'Casting'), (12062, 'Jeffrey Katzenberg', 'Producer'), (15775, 'Kevin Lima', 'Director'), (1082203, 'Carla Shelley', 'Producer'), (19769, 'David Ayer', 'Producer'), (7905, 'Mary Gibbs', 'actor'), (56856, 'Stephenie Meyer', 'Producer'), (380, 'Robert De Niro', 'Producer'), (12202, 'Catherine Knapman', 'Producer'), (961165, 'Kim Davis-Wagner', 'Casting'), (56147, 'Paul Brizzi', 'Director'), (71267, 'Kirk De Micco', 'Director'), (5914, 'Mary Vernieu', 'Casting'), (25130, 'Ben Barnes', 'actor'), (8, 'Lee Unkrich', 'Director'), (59681, 'Kate Solomon', 'Producer'), (33340, 'John Walker', 'Producer'), (2874, 'Janet Hirshenson', 'Casting'), (65858, 'Baker Bloodworth', 'Producer'), (1032, 'Martin Scorsese', 'Director'), (13242, 'Paul Giamatti', 'actor'), (135, 'Bobby Cohen', 'Producer'), (1719, 'Jennifer Alessi', 'Casting'), (959668, 'Derek Frey', 'Producer'), (33235, 'Logan Lerman', 'actor'), (930707, 'Colin Trevorrow', 'Director'), (78729, 'Nathan Lane', 'actor'), (66193, 'Chris Sanders', 'Director'), (933238, 'Rebecca Ferguson', 'actor'), (5293, 'Willem Dafoe', 'actor'), (16940, 'Jeremy Irons', 'actor'), (54421, 'Janet Jackson', 'actor'), (59350, 'Chaim Girafi', 'actor'), (3899, 'Ken Watanabe', 'actor'), (368, 'Reese Witherspoon', 'actor'), (477, 'Julie Walters', 'actor'), (588403, 'Yutaka Takenouchi', 'actor'), (28657, 'Matthew Fox', 'actor'), (132118, 'Kazutoshi Wadakura', 'Producer'), (1031246, 'Tong Dawei', 'actor'), (57864, 'Andrew Z. Davis', 'Producer'), (4135, 'Robert Redford', 'actor'), (9543, 'Beau Flynn', 'Producer'), (6355, 'Roy Scheider', 'actor'), (29525, 'Andrew Lazar', 'Producer'), (55536, 'Melissa McCarthy', 'actor'), (24891, 'Clovis Cornillac', 'actor'), (21636, 'Arthur M. Sarkissian', 'Producer'), (1896, 'Don Cheadle', 'actor'), (72753, 'Lindsey Collins', 'Producer'), (7628, 'Grant Curtis', 'Producer'), (1024910, 'Lindsay Graham', 'Casting'), (15000, 'Richard P. Rubinstein', 'Producer'), (664, 'Frank Marshall', 'Producer'), (1459846, 'Mohamed El Raie', 'Producer'), (1125158, 'Will Weiske', 'Producer'), (7902, 'Ruth Lambert', 'Casting'), (13550, 'Elias Koteas', 'actor'), (6186, 'Kathleen McGill', 'Producer'), (6040, 'Wyck Godfrey', 'Producer'), (10956, 'Josh McLaglen', 'Producer'), (61697, 'Sung Kang', 'actor'), (2446, 'Chad Oman', 'Producer'), (2095, 'Ralph Winter', 'Producer'), (12898, 'Tim Allen', 'actor'), (1100, 'Arnold Schwarzenegger', 'actor'), (2228, 'Sean Penn', 'actor'), (1032, 'Martin Scorsese', 'Producer'), (76594, 'Miley Cyrus', 'actor'), (16377, 'Jerry Seinfeld', 'actor'), (56365, 'Charlie Hunnam', 'actor'), (18288, 'Terrence Howard', 'actor'), (770, 'Jerry Bruckheimer', 'Producer'), (17276, 'Gerard Butler', 'actor'), (57343, 'Kevin Misher', 'Producer'), (39123, 'Venus Kanani', 'Casting'), (36427, 'Jenno Topping', 'Producer'), (1377373, 'Christi Soper', 'Casting'), (80671, 'John Sanford', 'Director'), (121830, 'Nathan Greno', 'Director'), (54419, 'Ryan Kavanaugh', 'Producer'), (12842, 'Leonard Goldberg', 'Producer'), (135651, 'Michael B. Jordan', 'actor'), (20400, 'Tim Story', 'Director'), (18457, 'Pam Dixon', 'Casting'), (8691, 'Zoe Saldana', 'actor'), (169200, 'Phyllis Smith', 'actor'), (1174345, 'Benoît Quainon', 'Producer'), (64128, 'Karen Glasser', 'Producer'), (3984, 'Stephanie Austin', 'Producer'), (72106, 'Ken Halsband', 'Producer'), (17306, 'Zachary Quinto', 'actor'), (33527, 'Adam Beach', 'actor'), (3501, 'Daniel Hubbard', 'Casting'), (58408, 'Jordan Kerner', 'Producer'), (7962, 'Lou Romano', 'actor'), (63127, 'Steve Clark-Hall', 'Producer'), (56512, 'Tarsem Singh', 'Director'), (56910, 'Susie Essman', 'actor'), (524, 'Natalie Portman', 'actor'), (1602319, 'Vanessa Baker', 'Casting'), (10969, 'Karen Lindsay-Stewart', 'Casting'), (29405, 'Christopher Rouse', 'Producer'), (69798, 'Clark Spencer', 'Producer'), (6201, 'Baz Luhrmann', 'Producer'), (7399, 'Ben Stiller', 'Producer'), (1313583, 'Levi Miller', 'actor'), (11092, 'Simon Kinberg', 'Producer'), (12890, 'Pete Docter', 'Director'), (12891, 'Joss Whedon', 'Director'), (15277, 'Jon Favreau', 'Director'), (57755, 'Woody Harrelson', 'actor'), (5430, 'Harald Kloser', 'Producer'), (1120694, 'Jennifer Lee', 'Director'), (71498, 'Stephen Deutsch', 'Producer'), (140, 'Lucy Liu', 'actor'), (16851, 'Josh Brolin', 'actor'), (1211, 'Larry Miller', 'actor'), (5590, 'Elle Macpherson', 'actor'), (62858, 'Lynne Carrow', 'Casting'), (8985, 'Margaret Colin', 'actor'), (1027850, 'Abigail Hargrove', 'actor'), (20821, 'Jack Giarraputo', 'Producer'), (6065, 'Dennis Quaid', 'actor'), (1899, 'Denise Di Novi', 'Producer'), (113665, 'Alex Young', 'Producer'), (1486217, 'Nicholas Gall', 'Casting'), (3131, 'Antonio Banderas', 'actor'), (5714, 'Carlos Saldanha', 'Director'), (7228, 'Joel B. Michaels', 'Producer'), (23677, 'Joe Pytka', 'Director'), (27631, 'Nathaniel Parker', 'actor'), (18953, 'Richard Suckle', 'Producer'), (57201, 'Mairi Bett', 'Producer'), (21370, 'Roger Donaldson', 'Director'), (1102209, 'Tom C. Peitzman', 'Producer'), (65377, 'Bernie Goldmann', 'Producer'), (70243, 'Eartha Kitt', 'actor'), (5378, 'Pamela Abdy', 'Producer'), (1241, 'John Turturro', 'actor'), (9987, 'Ian Bryce', 'Producer'), (73931, 'Bette Midler', 'actor'), (545, 'Matthew Barry', 'Casting'), (2956, 'Amanda Peet', 'actor'), (1704, 'Gore Verbinski', 'Producer'), (9183, 'Paula Wagner', 'Producer'), (525, 'Christopher Nolan', 'Director'), (2447, 'Peter Kohn', 'Producer'), (7676, 'William Atherton', 'actor'), (1037, 'Harvey Keitel', 'actor')}\n"
          ]
        }
      ],
      "source": [
        "temp=[]\n",
        "for item in m_mapping:\n",
        "  temp = temp + m_mapping[item]\n",
        "lst = set(temp)\n",
        "print(lst)"
      ]
    },
    {
      "cell_type": "code",
      "execution_count": 38,
      "metadata": {},
      "outputs": [],
      "source": [
        "g = nx.Graph()\n",
        "for item in lst:\n",
        "    g.add_node(item[0],name=item[1],job=item[2])"
      ]
    },
    {
      "cell_type": "code",
      "execution_count": 39,
      "metadata": {
        "id": "PxcRh9DKzslr"
      },
      "outputs": [],
      "source": [
        "def convert_into_dict(temp):\n",
        "  Dict={}\n",
        "  for data in temp:\n",
        "    sorted(temp[data],key=lambda x: x[1])\n",
        "    for i in range(len(temp[data])-1):\n",
        "      for j in range(i+1,len(temp[data])):\n",
        "        if temp[data][i][0]!=temp[data][j][0]:\n",
        "          if (temp[data][i],temp[data][j]) in Dict.keys():\n",
        "            Dict[(temp[data][i],temp[data][j])]+=1\n",
        "          else:\n",
        "            Dict[(temp[data][i],temp[data][j])]=1\n",
        "  return Dict"
      ]
    },
    {
      "cell_type": "code",
      "execution_count": 40,
      "metadata": {
        "id": "0M20MOvb06BI"
      },
      "outputs": [
        {
          "name": "stdout",
          "output_type": "stream",
          "text": [
            "14301\n",
            "1939\n"
          ]
        }
      ],
      "source": [
        "m_mapping_Dict = convert_into_dict(m_mapping)\n",
        "print(len(m_mapping_Dict))\n",
        "print(len(lst))\n",
        "for p in m_mapping_Dict:\n",
        "  g.add_edge(p[0][0],p[1][0], weight=m_mapping_Dict[p])"
      ]
    },
    {
      "cell_type": "code",
      "execution_count": 41,
      "metadata": {},
      "outputs": [
        {
          "name": "stdout",
          "output_type": "stream",
          "text": [
            "Density of Graph->  0.00785267964431627\n"
          ]
        }
      ],
      "source": [
        "# Getting the density of the collaborative graph\n",
        "print(\"Density of Graph-> \",nx.density(g))"
      ]
    },
    {
      "cell_type": "code",
      "execution_count": 42,
      "metadata": {
        "id": "_NFqhirLSP1h"
      },
      "outputs": [
        {
          "name": "stdout",
          "output_type": "stream",
          "text": [
            "Number of Actor Nodes->  716\n",
            "Number of Producer Nodes->  642\n",
            "Number of Director Nodes->  227\n",
            "Number of Casting Director Nodes->  240\n",
            "Total Number of Nodes->  1825\n"
          ]
        }
      ],
      "source": [
        "# Create subgraphs for each job\n",
        "subgraph_actors = g.subgraph([a for a in list(g.nodes) if g.nodes[a]['job']=='actor'])\n",
        "print(\"Number of Actor Nodes-> \", subgraph_actors.number_of_nodes())\n",
        "\n",
        "subgraph_producers = g.subgraph([p for p in list(g.nodes) if g.nodes[p]['job']=='Producer'])\n",
        "print(\"Number of Producer Nodes-> \",subgraph_producers.number_of_nodes())\n",
        "\n",
        "subgraph_directors = g.subgraph([d for d in list(g.nodes) if g.nodes[d]['job']=='Director'])\n",
        "print(\"Number of Director Nodes-> \",subgraph_directors.number_of_nodes())\n",
        "\n",
        "subgraph_casting = g.subgraph([c for c in list(g.nodes) if g.nodes[c]['job']=='Casting'])\n",
        "print(\"Number of Casting Director Nodes-> \",subgraph_casting.number_of_nodes())\n",
        "\n",
        "# Print the total number of nodes in the graph\n",
        "print(\"Total Number of Nodes-> \",g.number_of_nodes())"
      ]
    },
    {
      "cell_type": "code",
      "execution_count": 65,
      "metadata": {},
      "outputs": [
        {
          "name": "stdout",
          "output_type": "stream",
          "text": [
            "The graph is not connected\n"
          ]
        }
      ],
      "source": [
        "if nx.is_connected(g):\n",
        "    print(\"The graph is connected\")\n",
        "else:\n",
        "    print(\"The graph is not connected\")\n"
      ]
    },
    {
      "cell_type": "code",
      "execution_count": null,
      "metadata": {},
      "outputs": [],
      "source": [
        "# Finding the information centrality of each node in the graph for each job\n",
        "\n",
        "# Th information centranlity does not work for this graph as it is not connected\n",
        "\n",
        "# g_info=nx.information_centrality(g)\n",
        "# g_info=list(g_info.items())\n",
        "\n",
        "# actor_infocen=[(g.nodes[a[0]]['name'],a[1]) for a in g_info if g.nodes[a[0]]['job']=='actor']\n",
        "# actor_infocen.sort(key=lambda x: x[1],reverse=True)\n",
        "\n",
        "# producer_infocen=[(g.nodes[p[0]]['name'],p[1]) for p in g_info if g.nodes[p[0]]['job']=='Producer']\n",
        "# producer_infocen.sort(key=lambda x: x[1],reverse=True)\n",
        "\n",
        "# director_infocen=[(g.nodes[d[0]]['name'],d[1]) for d in g_info if g.nodes[d[0]]['job']=='Director']\n",
        "# director_infocen.sort(key=lambda x: x[1],reverse=True)\n",
        "\n",
        "# casting_infocen=[(g.nodes[c[0]]['name'],c[1]) for c in g_info if g.nodes[c[0]]['job']=='Casting']\n",
        "# casting_infocen.sort(key=lambda x: x[1],reverse=True)"
      ]
    },
    {
      "cell_type": "code",
      "execution_count": 43,
      "metadata": {
        "id": "L6BWvdFF-MNP"
      },
      "outputs": [],
      "source": [
        "# Finding the degree of each node in the graph for each job\n",
        "g_degree = list(g.degree)\n",
        "\n",
        "actor_degree=[(g.nodes[a[0]]['name'],a[1]) for a in g_degree if g.nodes[a[0]]['job']=='actor']\n",
        "actor_degree.sort(key=lambda x: x[1],reverse=True)\n",
        "\n",
        "producer_degree=[(g.nodes[p[0]]['name'],p[1]) for p in g_degree if g.nodes[p[0]]['job']=='Producer']\n",
        "producer_degree.sort(key=lambda x: x[1],reverse=True)\n",
        "\n",
        "director_degree = [(g.nodes[d[0]]['name'],d[1]) for d in g_degree if g.nodes[d[0]]['job']=='Director']\n",
        "director_degree.sort(key=lambda x: x[1],reverse=True)\n",
        "\n",
        "casting_degree = [(g.nodes[c[0]]['name'],c[1]) for c in g_degree if g.nodes[c[0]]['job']=='Casting']\n",
        "casting_degree.sort(key=lambda x: x[1],reverse=True)"
      ]
    },
    {
      "cell_type": "code",
      "execution_count": 44,
      "metadata": {},
      "outputs": [
        {
          "name": "stdout",
          "output_type": "stream",
          "text": [
            "Degree for Actors->\n"
          ]
        },
        {
          "data": {
            "text/plain": [
              "[('Angelina Jolie', 86),\n",
              " ('Tom Cruise', 79),\n",
              " ('Arnold Schwarzenegger', 74),\n",
              " ('Matt Damon', 69),\n",
              " ('Hugh Jackman', 69)]"
            ]
          },
          "execution_count": 44,
          "metadata": {},
          "output_type": "execute_result"
        }
      ],
      "source": [
        "print('Degree for Actors->')\n",
        "actor_degree[:5]"
      ]
    },
    {
      "cell_type": "code",
      "execution_count": 45,
      "metadata": {},
      "outputs": [
        {
          "name": "stdout",
          "output_type": "stream",
          "text": [
            "Degree for Producers->\n"
          ]
        },
        {
          "data": {
            "text/plain": [
              "[('Leonardo DiCaprio', 77),\n",
              " ('Brad Pitt', 75),\n",
              " ('Johnny Depp', 73),\n",
              " ('Neal H. Moritz', 70),\n",
              " ('Larry J. Franco', 63)]"
            ]
          },
          "execution_count": 45,
          "metadata": {},
          "output_type": "execute_result"
        }
      ],
      "source": [
        "print('Degree for Producers->')\n",
        "producer_degree[:5]"
      ]
    },
    {
      "cell_type": "code",
      "execution_count": 46,
      "metadata": {},
      "outputs": [
        {
          "name": "stdout",
          "output_type": "stream",
          "text": [
            "Degree for Directors->\n"
          ]
        },
        {
          "data": {
            "text/plain": [
              "[('Peter Jackson', 37),\n",
              " ('Chris Columbus', 34),\n",
              " ('Paul Greengrass', 31),\n",
              " ('Robert Zemeckis', 30),\n",
              " ('Christopher Nolan', 30)]"
            ]
          },
          "execution_count": 46,
          "metadata": {},
          "output_type": "execute_result"
        }
      ],
      "source": [
        "print('Degree for Directors->')\n",
        "director_degree[:5]"
      ]
    },
    {
      "cell_type": "code",
      "execution_count": 47,
      "metadata": {},
      "outputs": [
        {
          "name": "stdout",
          "output_type": "stream",
          "text": [
            "Degree for Casting Directors->\n"
          ]
        },
        {
          "data": {
            "text/plain": [
              "[('Lucinda Syson', 113),\n",
              " ('Sarah Finn', 112),\n",
              " ('John Papsidera', 103),\n",
              " ('Mary Hidalgo', 93),\n",
              " ('Ronna Kress', 93)]"
            ]
          },
          "execution_count": 47,
          "metadata": {},
          "output_type": "execute_result"
        }
      ],
      "source": [
        "print('Degree for Casting Directors->')\n",
        "casting_degree[:5]"
      ]
    },
    {
      "cell_type": "code",
      "execution_count": 48,
      "metadata": {
        "id": "H0LiFttlWR-o"
      },
      "outputs": [],
      "source": [
        "# Finding the closeness centrality of each node in the graph for each job\n",
        "g_closeness = nx.closeness_centrality(g)\n",
        "\n",
        "g_closeness = list(g_closeness.items())\n",
        "\n",
        "actor_closeness=[(g.nodes[a[0]]['name'],a[1]) for a in g_closeness if g.nodes[a[0]]['job']=='actor']\n",
        "actor_closeness.sort(key=lambda x: x[1],reverse=True)\n",
        "\n",
        "producer_closeness=[(g.nodes[p[0]]['name'],p[1]) for p in g_closeness if g.nodes[p[0]]['job']=='Producer']\n",
        "producer_closeness.sort(key=lambda x: x[1],reverse=True)\n",
        "\n",
        "director_closeness=[(g.nodes[d[0]]['name'],d[1]) for d in g_closeness if g.nodes[d[0]]['job']=='Director']\n",
        "director_closeness.sort(key=lambda x: x[1],reverse=True)\n",
        "\n",
        "casting_closeness=[(g.nodes[c[0]]['name'],c[1]) for c in g_closeness if g.nodes[c[0]]['job']=='Casting']\n",
        "casting_closeness.sort(key=lambda x: x[1],reverse=True)"
      ]
    },
    {
      "cell_type": "code",
      "execution_count": 49,
      "metadata": {},
      "outputs": [
        {
          "name": "stdout",
          "output_type": "stream",
          "text": [
            "Closeness for Actors->\n"
          ]
        },
        {
          "data": {
            "text/plain": [
              "[('Angelina Jolie', 0.39221533554025845),\n",
              " ('Tom Cruise', 0.3796299643339117),\n",
              " ('Will Smith', 0.37607584100137126),\n",
              " ('Tom Hanks', 0.3690846875468586),\n",
              " ('Gary Oldman', 0.3686907871332547)]"
            ]
          },
          "execution_count": 49,
          "metadata": {},
          "output_type": "execute_result"
        }
      ],
      "source": [
        "print('Closeness for Actors->')\n",
        "actor_closeness[:5]"
      ]
    },
    {
      "cell_type": "code",
      "execution_count": 50,
      "metadata": {},
      "outputs": [
        {
          "name": "stdout",
          "output_type": "stream",
          "text": [
            "Closeness for Producers->\n"
          ]
        },
        {
          "data": {
            "text/plain": [
              "[('Brad Pitt', 0.3842750473235369),\n",
              " ('Brian Grazer', 0.3778858756769412),\n",
              " ('Neal H. Moritz', 0.3742830634278003),\n",
              " ('Johnny Depp', 0.3737970867170089),\n",
              " ('Jerry Bruckheimer', 0.3735545713060766)]"
            ]
          },
          "execution_count": 50,
          "metadata": {},
          "output_type": "execute_result"
        }
      ],
      "source": [
        "print('Closeness for Producers->')\n",
        "producer_closeness[:5]"
      ]
    },
    {
      "cell_type": "code",
      "execution_count": 51,
      "metadata": {},
      "outputs": [
        {
          "name": "stdout",
          "output_type": "stream",
          "text": [
            "Closeness for Directors->\n"
          ]
        },
        {
          "data": {
            "text/plain": [
              "[('Michael Mann', 0.35108055644701186),\n",
              " ('Christopher Nolan', 0.3478985574459815),\n",
              " ('Robert Zemeckis', 0.3447737201036523),\n",
              " ('Doug Liman', 0.3427214955792259),\n",
              " ('Chris Columbus', 0.3374323769719278)]"
            ]
          },
          "execution_count": 51,
          "metadata": {},
          "output_type": "execute_result"
        }
      ],
      "source": [
        "print('Closeness for Directors->')\n",
        "director_closeness[:5]"
      ]
    },
    {
      "cell_type": "code",
      "execution_count": 52,
      "metadata": {},
      "outputs": [
        {
          "name": "stdout",
          "output_type": "stream",
          "text": [
            "Closeness for Casting Directors->\n"
          ]
        },
        {
          "data": {
            "text/plain": [
              "[('Lucinda Syson', 0.40386166418501246),\n",
              " ('Sarah Finn', 0.39248269432385785),\n",
              " ('Ronna Kress', 0.38651070434533413),\n",
              " ('John Papsidera', 0.3841041444783852),\n",
              " ('Janet Hirshenson', 0.3834220505481239)]"
            ]
          },
          "execution_count": 52,
          "metadata": {},
          "output_type": "execute_result"
        }
      ],
      "source": [
        "print('Closeness for Casting Directors->')\n",
        "casting_closeness[:5]"
      ]
    },
    {
      "cell_type": "code",
      "execution_count": 53,
      "metadata": {
        "id": "TKt1-g-4Xsxc"
      },
      "outputs": [],
      "source": [
        "# Finding the betweenness centrality of each node in the graph for each job\n",
        "g_betweenness = nx.betweenness_centrality(g)\n",
        "g_betweenness = list(g_betweenness.items())\n",
        "\n",
        "actor_betweenness=[(g.nodes[a[0]]['name'],a[1]) for a in g_betweenness if g.nodes[a[0]]['job']=='actor']\n",
        "actor_betweenness.sort(key=lambda x: x[1],reverse=True)\n",
        "\n",
        "producer_betweenness=[(g.nodes[p[0]]['name'],p[1]) for p in g_betweenness if g.nodes[p[0]]['job']=='Producer']\n",
        "producer_betweenness.sort(key=lambda x: x[1],reverse=True)\n",
        "\n",
        "director_betweenness=[(g.nodes[d[0]]['name'],d[1]) for d in g_betweenness if g.nodes[d[0]]['job']=='Director']\n",
        "director_betweenness.sort(key=lambda x: x[1],reverse=True)\n",
        "\n",
        "casting_betweenness=[(g.nodes[c[0]]['name'],c[1]) for c in g_betweenness if g.nodes[c[0]]['job']=='Casting']\n",
        "casting_betweenness.sort(key=lambda x: x[1],reverse=True)"
      ]
    },
    {
      "cell_type": "code",
      "execution_count": 54,
      "metadata": {},
      "outputs": [
        {
          "name": "stdout",
          "output_type": "stream",
          "text": [
            "Betweenness for Actors->\n"
          ]
        },
        {
          "data": {
            "text/plain": [
              "[('Tom Hanks', 0.031104455224955606),\n",
              " ('Arnold Schwarzenegger', 0.028147915880146295),\n",
              " ('Angelina Jolie', 0.026644584336829404),\n",
              " ('Tom Cruise', 0.022563294670007703),\n",
              " ('Will Smith', 0.018572306306717867)]"
            ]
          },
          "execution_count": 54,
          "metadata": {},
          "output_type": "execute_result"
        }
      ],
      "source": [
        "print('Betweenness for Actors->')\n",
        "actor_betweenness[:5]"
      ]
    },
    {
      "cell_type": "code",
      "execution_count": 55,
      "metadata": {},
      "outputs": [
        {
          "name": "stdout",
          "output_type": "stream",
          "text": [
            "Betweenness for Producers->\n"
          ]
        },
        {
          "data": {
            "text/plain": [
              "[('Brad Pitt', 0.021984697846443867),\n",
              " ('Leonardo DiCaprio', 0.01987926007647464),\n",
              " ('Neal H. Moritz', 0.01725756220890224),\n",
              " ('Brian Grazer', 0.01711518230386224),\n",
              " ('Douglas Wick', 0.016792044719712865)]"
            ]
          },
          "execution_count": 55,
          "metadata": {},
          "output_type": "execute_result"
        }
      ],
      "source": [
        "print('Betweenness for Producers->')\n",
        "producer_betweenness[:5]"
      ]
    },
    {
      "cell_type": "code",
      "execution_count": 56,
      "metadata": {},
      "outputs": [
        {
          "name": "stdout",
          "output_type": "stream",
          "text": [
            "Betweenness for Directors->\n"
          ]
        },
        {
          "data": {
            "text/plain": [
              "[('Brad Bird', 0.006512669632254878),\n",
              " ('Paul Verhoeven', 0.005227935012895767),\n",
              " ('Chris Buck', 0.004639158308680537),\n",
              " ('Chris Columbus', 0.004509760608981904),\n",
              " ('Rob Minkoff', 0.0037243096520029307)]"
            ]
          },
          "execution_count": 56,
          "metadata": {},
          "output_type": "execute_result"
        }
      ],
      "source": [
        "print('Betweenness for Directors->')\n",
        "director_betweenness[:5]"
      ]
    },
    {
      "cell_type": "code",
      "execution_count": 57,
      "metadata": {},
      "outputs": [
        {
          "name": "stdout",
          "output_type": "stream",
          "text": [
            "Betweenness for Casting Directors->\n"
          ]
        },
        {
          "data": {
            "text/plain": [
              "[('Mary Hidalgo', 0.050085236006448965),\n",
              " ('Lucinda Syson', 0.04087103030419086),\n",
              " ('Sarah Finn', 0.03589732224501016),\n",
              " ('John Papsidera', 0.03557092459283544),\n",
              " ('Avy Kaufman', 0.03149010845361329)]"
            ]
          },
          "execution_count": 57,
          "metadata": {},
          "output_type": "execute_result"
        }
      ],
      "source": [
        "print('Betweenness for Casting Directors->')\n",
        "casting_betweenness[:5]"
      ]
    },
    {
      "cell_type": "code",
      "execution_count": 58,
      "metadata": {
        "id": "p9LtuByWYeNr"
      },
      "outputs": [],
      "source": [
        "# Finding the clustering coefficient of each node in the graph for each job\n",
        "g_clustering=nx.clustering(g)\n",
        "g_clustering=list(g_clustering.items())\n",
        "\n",
        "actor_clustering = [(g.nodes[a[0]]['name'],a[1]) for a in g_clustering if g.nodes[a[0]]['job']=='actor' and int(a[1])!=1]\n",
        "actor_clustering.sort(key=lambda x: x[1],reverse=True)\n",
        "\n",
        "producer_clustering = [(g.nodes[p[0]]['name'],p[1]) for p in g_clustering if g.nodes[p[0]]['job']=='Producer' and int(p[1])!=1]\n",
        "producer_clustering.sort(key=lambda x: x[1],reverse=True)\n",
        "\n",
        "director_clustering=[(g.nodes[d[0]]['name'],d[1]) for d in g_clustering if g.nodes[d[0]]['job']=='Director' and int(d[1])!=1]\n",
        "director_clustering.sort(key=lambda x: x[1],reverse=True)\n",
        "\n",
        "casting_clustering=[(g.nodes[c[0]]['name'],c[1]) for c in g_clustering if g.nodes[c[0]]['job']=='Casting' and int(c[1])!=1]\n",
        "casting_clustering.sort(key=lambda x: x[1],reverse=True)\n"
      ]
    },
    {
      "cell_type": "code",
      "execution_count": 59,
      "metadata": {},
      "outputs": [
        {
          "name": "stdout",
          "output_type": "stream",
          "text": [
            "Clustering for Actors\n"
          ]
        },
        {
          "data": {
            "text/plain": [
              "[('Tom Hiddleston', 0.9642857142857143),\n",
              " ('Josh Duhamel', 0.9454545454545454),\n",
              " ('Theo James', 0.9090909090909091),\n",
              " ('Shailene Woodley', 0.9090909090909091),\n",
              " ('Gwyneth Paltrow', 0.8888888888888888)]"
            ]
          },
          "execution_count": 59,
          "metadata": {},
          "output_type": "execute_result"
        }
      ],
      "source": [
        "print('Clustering for Actors')\n",
        "actor_clustering[:5]"
      ]
    },
    {
      "cell_type": "code",
      "execution_count": 60,
      "metadata": {},
      "outputs": [
        {
          "name": "stdout",
          "output_type": "stream",
          "text": [
            "Clustering for Producers\n"
          ]
        },
        {
          "data": {
            "text/plain": [
              "[('Bill Miller', 0.9523809523809523),\n",
              " ('Nina Jacobson', 0.9523809523809523),\n",
              " ('Susan Downey', 0.9454545454545454),\n",
              " ('Dan Lin', 0.9454545454545454),\n",
              " ('Jerry Weintraub', 0.9333333333333333)]"
            ]
          },
          "execution_count": 60,
          "metadata": {},
          "output_type": "execute_result"
        }
      ],
      "source": [
        "print('Clustering for Producers')\n",
        "producer_clustering[:5]"
      ]
    },
    {
      "cell_type": "code",
      "execution_count": 61,
      "metadata": {},
      "outputs": [
        {
          "name": "stdout",
          "output_type": "stream",
          "text": [
            "Clustering for Directors\n"
          ]
        },
        {
          "data": {
            "text/plain": [
              "[('Guy Ritchie', 0.9454545454545454),\n",
              " ('Steven Soderbergh', 0.9333333333333333),\n",
              " ('Joe Russo', 0.9166666666666666),\n",
              " ('Anthony Russo', 0.9166666666666666),\n",
              " ('Joss Whedon', 0.8928571428571429)]"
            ]
          },
          "execution_count": 61,
          "metadata": {},
          "output_type": "execute_result"
        }
      ],
      "source": [
        "print('Clustering for Directors')\n",
        "director_clustering[:5]"
      ]
    },
    {
      "cell_type": "code",
      "execution_count": 62,
      "metadata": {},
      "outputs": [
        {
          "name": "stdout",
          "output_type": "stream",
          "text": [
            "Clustering for Casting Directors->\n"
          ]
        },
        {
          "data": {
            "text/plain": [
              "[('Robin Gurland', 0.9333333333333333),\n",
              " ('Marianne Stanicheva', 0.9272727272727272),\n",
              " ('Venus Kanani', 0.9090909090909091),\n",
              " ('Jennifer Rudnicke', 0.8241758241758241),\n",
              " ('Amy Hubbard', 0.7416666666666667)]"
            ]
          },
          "execution_count": 62,
          "metadata": {},
          "output_type": "execute_result"
        }
      ],
      "source": [
        "print('Clustering for Casting Directors->')\n",
        "casting_clustering[:5]"
      ]
    }
  ],
  "metadata": {
    "colab": {
      "provenance": []
    },
    "kernelspec": {
      "display_name": "Python 3",
      "name": "python3"
    },
    "language_info": {
      "codemirror_mode": {
        "name": "ipython",
        "version": 3
      },
      "file_extension": ".py",
      "mimetype": "text/x-python",
      "name": "python",
      "nbconvert_exporter": "python",
      "pygments_lexer": "ipython3",
      "version": "3.10.1"
    }
  },
  "nbformat": 4,
  "nbformat_minor": 0
}
